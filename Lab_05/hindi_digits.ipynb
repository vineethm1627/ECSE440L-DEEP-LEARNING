{
 "cells": [
  {
   "cell_type": "code",
   "execution_count": 8,
   "metadata": {},
   "outputs": [],
   "source": [
    "# importing the libaries \n",
    "\n",
    "import pandas as pd\n",
    "import numpy as np\n",
    "import os\n",
    "import matplotlib.pyplot as plt\n",
    "import cv2"
   ]
  },
  {
   "cell_type": "code",
   "execution_count": 4,
   "metadata": {},
   "outputs": [
    {
     "name": "stdout",
     "output_type": "stream",
     "text": [
      "{'digit_0': 0, 'digit_1': 1, 'digit_2': 2, 'digit_3': 3, 'digit_4': 4, 'digit_5': 5, 'digit_6': 6, 'digit_7': 7, 'digit_8': 8, 'digit_9': 9}\n"
     ]
    }
   ],
   "source": [
    "# final output categories.\n",
    "categories = {}\n",
    "for i in range(10):\n",
    "    categories['digit_' + str(i)] = i\n",
    "print(categories)"
   ]
  },
  {
   "cell_type": "code",
   "execution_count": 22,
   "metadata": {},
   "outputs": [],
   "source": [
    "# lets create the dataset\n",
    "data = []\n",
    "def create_data():\n",
    "    for fol_name, category in categories.items():\n",
    "        path = 'data/' + fol_name\n",
    "        target = category\n",
    "        \n",
    "        for img in os.listdir(path):\n",
    "            img_array = cv2.imread(os.path.join(path, img), cv2.IMREAD_GRAYSCALE)\n",
    "            new_img_array = cv2.resize(img_array, (32, 32))\n",
    "            data.append([new_img_array, target])\n",
    "            \n",
    "create_data()"
   ]
  },
  {
   "cell_type": "code",
   "execution_count": 23,
   "metadata": {},
   "outputs": [
    {
     "name": "stdout",
     "output_type": "stream",
     "text": [
      "1404\n"
     ]
    }
   ],
   "source": [
    "print(len(data))"
   ]
  },
  {
   "cell_type": "code",
   "execution_count": 24,
   "metadata": {},
   "outputs": [
    {
     "name": "stdout",
     "output_type": "stream",
     "text": [
      "One training example :  [array([[ 0,  0,  0, ...,  0,  0,  0],\n",
      "       [ 0,  0,  0, ...,  0,  0,  0],\n",
      "       [ 0,  0,  0, ..., 22,  0,  0],\n",
      "       ...,\n",
      "       [ 0,  0,  0, ...,  0,  0,  0],\n",
      "       [ 0,  0,  0, ...,  0,  0,  0],\n",
      "       [ 0,  0,  0, ...,  0,  0,  0]], dtype=uint8), 0]\n",
      "----------------------------------------------------\n",
      "image array :  [[ 0  0  0 ...  0  0  0]\n",
      " [ 0  0  0 ...  0  0  0]\n",
      " [ 0  0  0 ... 22  0  0]\n",
      " ...\n",
      " [ 0  0  0 ...  0  0  0]\n",
      " [ 0  0  0 ...  0  0  0]\n",
      " [ 0  0  0 ...  0  0  0]]\n",
      "----------------------------------------------------\n",
      "image array shape :  (32, 32)\n",
      "----------------------------------------------------\n",
      "category label :  0\n"
     ]
    }
   ],
   "source": [
    "# first training example.\n",
    "print(\"One training example : \", data[0])\n",
    "print(\"----------------------------------------------------\")\n",
    "print(\"image array : \", data[0][0])\n",
    "print(\"----------------------------------------------------\")\n",
    "print(\"image array shape : \", data[0][0].shape)\n",
    "print(\"----------------------------------------------------\")\n",
    "print(\"category label : \", data[0][1])"
   ]
  },
  {
   "cell_type": "code",
   "execution_count": 27,
   "metadata": {},
   "outputs": [
    {
     "name": "stdout",
     "output_type": "stream",
     "text": [
      "One training example :  [array([[0, 0, 0, ..., 0, 0, 0],\n",
      "       [0, 0, 0, ..., 0, 0, 0],\n",
      "       [0, 0, 0, ..., 0, 0, 0],\n",
      "       ...,\n",
      "       [0, 0, 3, ..., 0, 0, 0],\n",
      "       [0, 0, 0, ..., 0, 0, 0],\n",
      "       [0, 0, 0, ..., 0, 0, 0]], dtype=uint8), 9]\n",
      "----------------------------------------------------\n",
      "image array :  [[0 0 0 ... 0 0 0]\n",
      " [0 0 0 ... 0 0 0]\n",
      " [0 0 0 ... 0 0 0]\n",
      " ...\n",
      " [0 0 3 ... 0 0 0]\n",
      " [0 0 0 ... 0 0 0]\n",
      " [0 0 0 ... 0 0 0]]\n",
      "----------------------------------------------------\n",
      "image array shape :  (32, 32)\n",
      "----------------------------------------------------\n",
      "category label :  9\n"
     ]
    }
   ],
   "source": [
    "# last training example\n",
    "print(\"One training example : \", data[-1])\n",
    "print(\"----------------------------------------------------\")\n",
    "print(\"image array : \", data[-1][0])\n",
    "print(\"----------------------------------------------------\")\n",
    "print(\"image array shape : \", data[-1][0].shape)\n",
    "print(\"----------------------------------------------------\")\n",
    "print(\"category label : \", data[-1][1])"
   ]
  },
  {
   "cell_type": "code",
   "execution_count": 28,
   "metadata": {},
   "outputs": [],
   "source": [
    "# splitting the data into X and y.\n",
    "\n",
    "X, y = [], []\n",
    "for i in range(len(data)):\n",
    "    X.append(data[i][0])\n",
    "    y.append(data[i][1])"
   ]
  },
  {
   "cell_type": "code",
   "execution_count": 29,
   "metadata": {},
   "outputs": [
    {
     "name": "stdout",
     "output_type": "stream",
     "text": [
      "One training example's X [input image] :  [[ 0  0  0 ...  0  0  0]\n",
      " [ 0  0  0 ...  0  0  0]\n",
      " [ 0  0  0 ... 22  0  0]\n",
      " ...\n",
      " [ 0  0  0 ...  0  0  0]\n",
      " [ 0  0  0 ...  0  0  0]\n",
      " [ 0  0  0 ...  0  0  0]]\n",
      "----------------------------------------------------\n",
      "One training example's shape :  (32, 32)\n",
      "----------------------------------------------------\n",
      "One training example's y [label/category] :  0\n"
     ]
    }
   ],
   "source": [
    "print(\"One training example's X [input image] : \", X[0])\n",
    "print(\"----------------------------------------------------\")\n",
    "print(\"One training example's shape : \", X[0].shape)\n",
    "print(\"----------------------------------------------------\")\n",
    "print(\"One training example's y [label/category] : \", y[0])"
   ]
  },
  {
   "cell_type": "code",
   "execution_count": 30,
   "metadata": {},
   "outputs": [],
   "source": [
    "X = np.array(X)\n",
    "y = np.array(y)\n",
    "y = pd.get_dummies(y)"
   ]
  },
  {
   "cell_type": "code",
   "execution_count": 36,
   "metadata": {},
   "outputs": [],
   "source": [
    "X = X.reshape(-1, 32, 32, 1)"
   ]
  },
  {
   "cell_type": "code",
   "execution_count": 38,
   "metadata": {},
   "outputs": [
    {
     "name": "stdout",
     "output_type": "stream",
     "text": [
      "(1404, 32, 32, 1)\n",
      "(1404, 10)\n",
      "----------------------------------------------------\n",
      "One training example's shape :  (32, 32, 1)\n",
      "----------------------------------------------------\n",
      "One training example's y [label/category] : \n",
      "       0  1  2  3  4  5  6  7  8  9\n",
      "0     1  0  0  0  0  0  0  0  0  0\n",
      "1     1  0  0  0  0  0  0  0  0  0\n",
      "2     1  0  0  0  0  0  0  0  0  0\n",
      "3     1  0  0  0  0  0  0  0  0  0\n",
      "4     1  0  0  0  0  0  0  0  0  0\n",
      "...  .. .. .. .. .. .. .. .. .. ..\n",
      "1399  0  0  0  0  0  0  0  0  0  1\n",
      "1400  0  0  0  0  0  0  0  0  0  1\n",
      "1401  0  0  0  0  0  0  0  0  0  1\n",
      "1402  0  0  0  0  0  0  0  0  0  1\n",
      "1403  0  0  0  0  0  0  0  0  0  1\n",
      "\n",
      "[1404 rows x 10 columns]\n"
     ]
    }
   ],
   "source": [
    "print(X.shape)\n",
    "print(y.shape)\n",
    "\n",
    "print(\"----------------------------------------------------\")\n",
    "print(\"One training example's shape : \", X[0].shape)\n",
    "print(\"----------------------------------------------------\")\n",
    "print(\"One training example's y [label/category] : \\n\", y)"
   ]
  },
  {
   "cell_type": "code",
   "execution_count": 39,
   "metadata": {},
   "outputs": [
    {
     "name": "stdout",
     "output_type": "stream",
     "text": [
      "<class 'numpy.ndarray'>\n",
      "<class 'pandas.core.frame.DataFrame'>\n"
     ]
    }
   ],
   "source": [
    "print(type(X))\n",
    "print(type(y))"
   ]
  },
  {
   "cell_type": "code",
   "execution_count": 40,
   "metadata": {},
   "outputs": [],
   "source": [
    "# split the data \n",
    "\n",
    "from sklearn.model_selection import train_test_split\n",
    "\n",
    "X_train, X_test, y_train, y_test = train_test_split(X, y, test_size = 0.3, random_state = 42, shuffle = True)"
   ]
  },
  {
   "cell_type": "code",
   "execution_count": 41,
   "metadata": {},
   "outputs": [
    {
     "name": "stdout",
     "output_type": "stream",
     "text": [
      "X train shape :  (982, 32, 32, 1)\n",
      "y train shape :  (982, 10)\n",
      "X test shape :  (422, 32, 32, 1)\n",
      "y test shape :  (422, 10)\n"
     ]
    }
   ],
   "source": [
    "print(\"X train shape : \", X_train.shape)\n",
    "print(\"y train shape : \", y_train.shape)\n",
    "print(\"X test shape : \", X_test.shape)\n",
    "print(\"y test shape : \", y_test.shape)"
   ]
  },
  {
   "cell_type": "code",
   "execution_count": 42,
   "metadata": {},
   "outputs": [],
   "source": [
    "from tensorflow.keras import Sequential\n",
    "from tensorflow.keras.layers import Dense, Dropout, Flatten, Conv2D, MaxPool2D, BatchNormalization\n",
    "from tensorflow.keras.optimizers import Adam\n",
    "from tensorflow.keras.models import load_model\n",
    "import datetime"
   ]
  },
  {
   "cell_type": "code",
   "execution_count": 43,
   "metadata": {},
   "outputs": [
    {
     "data": {
      "text/plain": [
       "10"
      ]
     },
     "execution_count": 43,
     "metadata": {},
     "output_type": "execute_result"
    }
   ],
   "source": [
    "num_classes = len(categories)"
   ]
  },
  {
   "cell_type": "code",
   "execution_count": 53,
   "metadata": {},
   "outputs": [
    {
     "name": "stdout",
     "output_type": "stream",
     "text": [
      "Model: \"sequential_9\"\n",
      "_________________________________________________________________\n",
      "Layer (type)                 Output Shape              Param #   \n",
      "=================================================================\n",
      "flatten_9 (Flatten)          (None, 1024)              0         \n",
      "_________________________________________________________________\n",
      "layer_1 (Dense)              (None, 8)                 8200      \n",
      "_________________________________________________________________\n",
      "dense_9 (Dense)              (None, 10)                90        \n",
      "=================================================================\n",
      "Total params: 8,290\n",
      "Trainable params: 8,290\n",
      "Non-trainable params: 0\n",
      "_________________________________________________________________\n",
      "-------------------------------------------------\n",
      "31/31 [==============================] - 0s 1ms/step - loss: 2.1211 - accuracy: 0.4745\n",
      "Model :  1403\n",
      "Training loss :  2.12111496925354\n",
      "Training accuracy :  0.4745417535305023\n",
      "-------------------------------------------------\n",
      "Model: \"sequential_10\"\n",
      "_________________________________________________________________\n",
      "Layer (type)                 Output Shape              Param #   \n",
      "=================================================================\n",
      "flatten_10 (Flatten)         (None, 1024)              0         \n",
      "_________________________________________________________________\n",
      "layer_1 (Dense)              (None, 16)                16400     \n",
      "_________________________________________________________________\n",
      "dense_10 (Dense)             (None, 10)                170       \n",
      "=================================================================\n",
      "Total params: 16,570\n",
      "Trainable params: 16,570\n",
      "Non-trainable params: 0\n",
      "_________________________________________________________________\n",
      "-------------------------------------------------\n",
      "31/31 [==============================] - 0s 1ms/step - loss: 0.3028 - accuracy: 0.8829\n",
      "Model :  1403\n",
      "Training loss :  0.3027589023113251\n",
      "Training accuracy :  0.8828920722007751\n",
      "-------------------------------------------------\n",
      "Model: \"sequential_11\"\n",
      "_________________________________________________________________\n",
      "Layer (type)                 Output Shape              Param #   \n",
      "=================================================================\n",
      "flatten_11 (Flatten)         (None, 1024)              0         \n",
      "_________________________________________________________________\n",
      "layer_1 (Dense)              (None, 32)                32800     \n",
      "_________________________________________________________________\n",
      "dense_11 (Dense)             (None, 10)                330       \n",
      "=================================================================\n",
      "Total params: 33,130\n",
      "Trainable params: 33,130\n",
      "Non-trainable params: 0\n",
      "_________________________________________________________________\n",
      "-------------------------------------------------\n",
      "31/31 [==============================] - 0s 927us/step - loss: 0.0019 - accuracy: 0.9990\n",
      "Model :  1403\n",
      "Training loss :  0.001904874574393034\n",
      "Training accuracy :  0.9989816546440125\n",
      "-------------------------------------------------\n",
      "Model: \"sequential_12\"\n",
      "_________________________________________________________________\n",
      "Layer (type)                 Output Shape              Param #   \n",
      "=================================================================\n",
      "flatten_12 (Flatten)         (None, 1024)              0         \n",
      "_________________________________________________________________\n",
      "layer_1 (Dense)              (None, 64)                65600     \n",
      "_________________________________________________________________\n",
      "dense_12 (Dense)             (None, 10)                650       \n",
      "=================================================================\n",
      "Total params: 66,250\n",
      "Trainable params: 66,250\n",
      "Non-trainable params: 0\n",
      "_________________________________________________________________\n",
      "-------------------------------------------------\n",
      "31/31 [==============================] - 0s 1ms/step - loss: 3.4992e-06 - accuracy: 1.0000\n",
      "Model :  1403\n",
      "Training loss :  3.4992094697372522e-06\n",
      "Training accuracy :  1.0\n",
      "-------------------------------------------------\n",
      "Model: \"sequential_13\"\n",
      "_________________________________________________________________\n",
      "Layer (type)                 Output Shape              Param #   \n",
      "=================================================================\n",
      "flatten_13 (Flatten)         (None, 1024)              0         \n",
      "_________________________________________________________________\n",
      "layer_1 (Dense)              (None, 128)               131200    \n",
      "_________________________________________________________________\n",
      "dense_13 (Dense)             (None, 10)                1290      \n",
      "=================================================================\n",
      "Total params: 132,490\n",
      "Trainable params: 132,490\n",
      "Non-trainable params: 0\n",
      "_________________________________________________________________\n",
      "-------------------------------------------------\n",
      "31/31 [==============================] - 0s 940us/step - loss: 2.0516e-08 - accuracy: 1.0000\n",
      "Model :  1403\n",
      "Training loss :  2.0515514620456088e-08\n",
      "Training accuracy :  1.0\n",
      "-------------------------------------------------\n",
      "Model: \"sequential_14\"\n",
      "_________________________________________________________________\n",
      "Layer (type)                 Output Shape              Param #   \n",
      "=================================================================\n",
      "flatten_14 (Flatten)         (None, 1024)              0         \n",
      "_________________________________________________________________\n",
      "layer_1 (Dense)              (None, 256)               262400    \n",
      "_________________________________________________________________\n",
      "dense_14 (Dense)             (None, 10)                2570      \n",
      "=================================================================\n",
      "Total params: 264,970\n",
      "Trainable params: 264,970\n",
      "Non-trainable params: 0\n",
      "_________________________________________________________________\n",
      "-------------------------------------------------\n",
      "31/31 [==============================] - 0s 1ms/step - loss: 0.0000e+00 - accuracy: 1.0000\n",
      "Model :  1403\n",
      "Training loss :  0.0\n",
      "Training accuracy :  1.0\n",
      "-------------------------------------------------\n",
      "Model: \"sequential_15\"\n",
      "_________________________________________________________________\n",
      "Layer (type)                 Output Shape              Param #   \n",
      "=================================================================\n",
      "flatten_15 (Flatten)         (None, 1024)              0         \n",
      "_________________________________________________________________\n",
      "layer_1 (Dense)              (None, 512)               524800    \n",
      "_________________________________________________________________\n",
      "dense_15 (Dense)             (None, 10)                5130      \n",
      "=================================================================\n",
      "Total params: 529,930\n",
      "Trainable params: 529,930\n",
      "Non-trainable params: 0\n",
      "_________________________________________________________________\n",
      "-------------------------------------------------\n",
      "31/31 [==============================] - 0s 1ms/step - loss: 0.0000e+00 - accuracy: 1.0000\n",
      "Model :  1403\n",
      "Training loss :  0.0\n",
      "Training accuracy :  1.0\n",
      "-------------------------------------------------\n",
      "Model: \"sequential_16\"\n",
      "_________________________________________________________________\n",
      "Layer (type)                 Output Shape              Param #   \n",
      "=================================================================\n",
      "flatten_16 (Flatten)         (None, 1024)              0         \n",
      "_________________________________________________________________\n",
      "layer_1 (Dense)              (None, 1028)              1053700   \n",
      "_________________________________________________________________\n",
      "dense_16 (Dense)             (None, 10)                10290     \n",
      "=================================================================\n",
      "Total params: 1,063,990\n",
      "Trainable params: 1,063,990\n",
      "Non-trainable params: 0\n",
      "_________________________________________________________________\n",
      "-------------------------------------------------\n",
      "31/31 [==============================] - 0s 2ms/step - loss: 0.0000e+00 - accuracy: 1.0000\n",
      "Model :  1403\n",
      "Training loss :  0.0\n",
      "Training accuracy :  1.0\n",
      "-------------------------------------------------\n"
     ]
    }
   ],
   "source": [
    "# building a Single Layer Neural Network.\n",
    "nodes = [8, 16, 32, 64, 128, 256, 512, 1028]\n",
    "history = []\n",
    "for node in nodes:\n",
    "    model = Sequential()\n",
    "    model.add(Flatten(input_shape = (32, 32, 1)))\n",
    "    model.add(Dense(node, activation = 'relu', name = 'layer_1'))\n",
    "    model.add(Dense(num_classes, activation = 'softmax'))\n",
    "    \n",
    "    # model summary\n",
    "    model.summary()\n",
    "    print(\"-------------------------------------------------\") \n",
    "    # compiling the model\n",
    "    model.compile(loss = 'categorical_crossentropy', optimizer = 'adam', metrics = ['accuracy'])\n",
    "    \n",
    "    # fitting the model on training data\n",
    "    history.append(model.fit(X_train, y_train, epochs = 20, batch_size = 64, verbose = 0))\n",
    "    \n",
    "    # evaluation on the training data.\n",
    "    score = model.evaluate(X_train, y_train)\n",
    "    print(\"Model : \", i)\n",
    "    print(\"Training loss : \", score[0])\n",
    "    print(\"Training accuracy : \", score[1])\n",
    "    print(\"-------------------------------------------------\")    "
   ]
  },
  {
   "cell_type": "code",
   "execution_count": 56,
   "metadata": {},
   "outputs": [
    {
     "data": {
      "text/plain": [
       "8"
      ]
     },
     "execution_count": 56,
     "metadata": {},
     "output_type": "execute_result"
    }
   ],
   "source": [
    "len(history)"
   ]
  },
  {
   "cell_type": "code",
   "execution_count": 76,
   "metadata": {},
   "outputs": [
    {
     "data": {
      "image/png": "[encoded data removed]",
      "text/plain": [
       "<Figure size 576x576 with 8 Axes>"
      ]
     },
     "metadata": {
      "needs_background": "light"
     },
     "output_type": "display_data"
    }
   ],
   "source": [
    "fig = plt.figure(figsize = (8, 8))\n",
    "\n",
    "for i in range(len(history)):\n",
    "    fig.add_subplot(4, 2, i + 1)\n",
    "    plt.plot(history[i].history['accuracy'])\n",
    "    plt.ylabel('accuracy')\n",
    "    plt.xlabel('epoch')\n",
    "    plt.legend(['train'], loc='lower right')\n",
    "plt.show()"
   ]
  },
  {
   "cell_type": "code",
   "execution_count": 75,
   "metadata": {},
   "outputs": [
    {
     "data": {
      "image/png": "[encoded data removed]",
      "text/plain": [
       "<Figure size 576x576 with 8 Axes>"
      ]
     },
     "metadata": {
      "needs_background": "light"
     },
     "output_type": "display_data"
    }
   ],
   "source": [
    "fig = plt.figure(figsize = (8, 8))\n",
    "\n",
    "for i in range(len(history)):\n",
    "    fig.add_subplot(4, 2, i + 1)\n",
    "    plt.plot(history[i].history['loss'])\n",
    "    plt.ylabel('loss')\n",
    "    plt.xlabel('epoch')\n",
    "    plt.legend(['train'], loc='upper right')\n",
    "plt.show()"
   ]
  },
  {
   "cell_type": "code",
   "execution_count": 78,
   "metadata": {},
   "outputs": [
    {
     "name": "stdout",
     "output_type": "stream",
     "text": [
      "Model: \"sequential_17\"\n",
      "_________________________________________________________________\n",
      "Layer (type)                 Output Shape              Param #   \n",
      "=================================================================\n",
      "flatten_17 (Flatten)         (None, 1024)              0         \n",
      "_________________________________________________________________\n",
      "dense_17 (Dense)             (None, 32)                32800     \n",
      "_________________________________________________________________\n",
      "dense_18 (Dense)             (None, 32)                1056      \n",
      "_________________________________________________________________\n",
      "dense_19 (Dense)             (None, 10)                330       \n",
      "=================================================================\n",
      "Total params: 34,186\n",
      "Trainable params: 34,186\n",
      "Non-trainable params: 0\n",
      "_________________________________________________________________\n",
      "-------------------------------------------------\n",
      "31/31 [==============================] - 0s 869us/step - loss: 1.2183e-04 - accuracy: 1.0000\n",
      "Model :  1\n",
      "Training loss :  0.00012183219951111823\n",
      "Training accuracy :  1.0\n",
      "-------------------------------------------------\n",
      "Model: \"sequential_18\"\n",
      "_________________________________________________________________\n",
      "Layer (type)                 Output Shape              Param #   \n",
      "=================================================================\n",
      "flatten_18 (Flatten)         (None, 1024)              0         \n",
      "_________________________________________________________________\n",
      "dense_20 (Dense)             (None, 32)                32800     \n",
      "_________________________________________________________________\n",
      "dense_21 (Dense)             (None, 32)                1056      \n",
      "_________________________________________________________________\n",
      "dense_22 (Dense)             (None, 32)                1056      \n",
      "_________________________________________________________________\n",
      "dense_23 (Dense)             (None, 10)                330       \n",
      "=================================================================\n",
      "Total params: 35,242\n",
      "Trainable params: 35,242\n",
      "Non-trainable params: 0\n",
      "_________________________________________________________________\n",
      "-------------------------------------------------\n",
      "31/31 [==============================] - 0s 858us/step - loss: 0.0039 - accuracy: 1.0000\n",
      "Model :  2\n",
      "Training loss :  0.003921737428754568\n",
      "Training accuracy :  1.0\n",
      "-------------------------------------------------\n",
      "Model: \"sequential_19\"\n",
      "_________________________________________________________________\n",
      "Layer (type)                 Output Shape              Param #   \n",
      "=================================================================\n",
      "flatten_19 (Flatten)         (None, 1024)              0         \n",
      "_________________________________________________________________\n",
      "dense_24 (Dense)             (None, 32)                32800     \n",
      "_________________________________________________________________\n",
      "dense_25 (Dense)             (None, 32)                1056      \n",
      "_________________________________________________________________\n",
      "dense_26 (Dense)             (None, 32)                1056      \n",
      "_________________________________________________________________\n",
      "dense_27 (Dense)             (None, 32)                1056      \n",
      "_________________________________________________________________\n",
      "dense_28 (Dense)             (None, 10)                330       \n",
      "=================================================================\n",
      "Total params: 36,298\n",
      "Trainable params: 36,298\n",
      "Non-trainable params: 0\n",
      "_________________________________________________________________\n",
      "-------------------------------------------------\n",
      "31/31 [==============================] - 0s 1ms/step - loss: 0.0618 - accuracy: 0.9837\n",
      "Model :  3\n",
      "Training loss :  0.061787303537130356\n",
      "Training accuracy :  0.9837067127227783\n",
      "-------------------------------------------------\n",
      "Model: \"sequential_20\"\n",
      "_________________________________________________________________\n",
      "Layer (type)                 Output Shape              Param #   \n",
      "=================================================================\n",
      "flatten_20 (Flatten)         (None, 1024)              0         \n",
      "_________________________________________________________________\n",
      "dense_29 (Dense)             (None, 32)                32800     \n",
      "_________________________________________________________________\n",
      "dense_30 (Dense)             (None, 32)                1056      \n",
      "_________________________________________________________________\n",
      "dense_31 (Dense)             (None, 32)                1056      \n",
      "_________________________________________________________________\n",
      "dense_32 (Dense)             (None, 32)                1056      \n",
      "_________________________________________________________________\n",
      "dense_33 (Dense)             (None, 32)                1056      \n",
      "_________________________________________________________________\n",
      "dense_34 (Dense)             (None, 10)                330       \n",
      "=================================================================\n",
      "Total params: 37,354\n",
      "Trainable params: 37,354\n",
      "Non-trainable params: 0\n",
      "_________________________________________________________________\n",
      "-------------------------------------------------\n",
      "31/31 [==============================] - 0s 940us/step - loss: 0.0439 - accuracy: 0.9919\n",
      "Model :  4\n",
      "Training loss :  0.043911464512348175\n",
      "Training accuracy :  0.9918533563613892\n",
      "-------------------------------------------------\n"
     ]
    }
   ],
   "source": [
    "layers = [2, 3, 4, 5]\n",
    "history = []\n",
    "for layer in layers:\n",
    "    model = Sequential()\n",
    "    model.add(Flatten(input_shape = (32, 32, 1)))\n",
    "    for i in range(layer):\n",
    "        model.add(Dense(32, activation = 'relu'))\n",
    "    model.add(Dense(num_classes, activation = 'softmax'))\n",
    "    \n",
    "    # model summary\n",
    "    model.summary()\n",
    "    print(\"-------------------------------------------------\") \n",
    "    # compiling the model\n",
    "    model.compile(loss = 'categorical_crossentropy', optimizer = 'adam', metrics = ['accuracy'])\n",
    "    \n",
    "    # fitting the model on training data\n",
    "    history.append(model.fit(X_train, y_train, epochs = 20, batch_size = 64, verbose = 0))\n",
    "    \n",
    "    # evaluation on the training data.\n",
    "    score = model.evaluate(X_train, y_train)\n",
    "    print(\"Model : \", i)\n",
    "    print(\"Training loss : \", score[0])\n",
    "    print(\"Training accuracy : \", score[1])\n",
    "    print(\"-------------------------------------------------\")    \n",
    "    "
   ]
  },
  {
   "cell_type": "code",
   "execution_count": 79,
   "metadata": {},
   "outputs": [
    {
     "data": {
      "image/png": "[encoded data removed]",
      "text/plain": [
       "<Figure size 576x576 with 4 Axes>"
      ]
     },
     "metadata": {
      "needs_background": "light"
     },
     "output_type": "display_data"
    }
   ],
   "source": [
    "fig = plt.figure(figsize = (8, 8))\n",
    "\n",
    "for i in range(len(history)):\n",
    "    fig.add_subplot(4, 2, i + 1)\n",
    "    plt.plot(history[i].history['accuracy'])\n",
    "    plt.ylabel('accuracy')\n",
    "    plt.xlabel('epoch')\n",
    "    plt.legend(['train'], loc='lower right')\n",
    "plt.show()"
   ]
  },
  {
   "cell_type": "code",
   "execution_count": 80,
   "metadata": {},
   "outputs": [
    {
     "data": {
      "image/png": "[encoded data removed]",
      "text/plain": [
       "<Figure size 576x576 with 4 Axes>"
      ]
     },
     "metadata": {
      "needs_background": "light"
     },
     "output_type": "display_data"
    }
   ],
   "source": [
    "fig = plt.figure(figsize = (8, 8))\n",
    "\n",
    "for i in range(len(history)):\n",
    "    fig.add_subplot(4, 2, i + 1)\n",
    "    plt.plot(history[i].history['loss'])\n",
    "    plt.ylabel('loss')\n",
    "    plt.xlabel('epoch')\n",
    "    plt.legend(['train'], loc='upper right')\n",
    "plt.show()"
   ]
  },
  {
   "cell_type": "code",
   "execution_count": 81,
   "metadata": {},
   "outputs": [
    {
     "name": "stdout",
     "output_type": "stream",
     "text": [
      "Model: \"sequential_20\"\n",
      "_________________________________________________________________\n",
      "Layer (type)                 Output Shape              Param #   \n",
      "=================================================================\n",
      "flatten_20 (Flatten)         (None, 1024)              0         \n",
      "_________________________________________________________________\n",
      "dense_29 (Dense)             (None, 32)                32800     \n",
      "_________________________________________________________________\n",
      "dense_30 (Dense)             (None, 32)                1056      \n",
      "_________________________________________________________________\n",
      "dense_31 (Dense)             (None, 32)                1056      \n",
      "_________________________________________________________________\n",
      "dense_32 (Dense)             (None, 32)                1056      \n",
      "_________________________________________________________________\n",
      "dense_33 (Dense)             (None, 32)                1056      \n",
      "_________________________________________________________________\n",
      "dense_34 (Dense)             (None, 10)                330       \n",
      "=================================================================\n",
      "Total params: 37,354\n",
      "Trainable params: 37,354\n",
      "Non-trainable params: 0\n",
      "_________________________________________________________________\n"
     ]
    }
   ],
   "source": [
    "model.summary()"
   ]
  },
  {
   "cell_type": "code",
   "execution_count": 82,
   "metadata": {},
   "outputs": [],
   "source": [
    "predictions = model.predict(X_test)"
   ]
  },
  {
   "cell_type": "code",
   "execution_count": 84,
   "metadata": {},
   "outputs": [],
   "source": [
    "y_pred = np.argmax(predictions, axis = 1)"
   ]
  },
  {
   "cell_type": "code",
   "execution_count": 88,
   "metadata": {},
   "outputs": [
    {
     "name": "stdout",
     "output_type": "stream",
     "text": [
      "31/31 [==============================] - 0s 912us/step - loss: 0.0439 - accuracy: 0.9919\n",
      "Model loss :  0.043911464512348175\n",
      "Model accuracy :  0.9918533563613892\n"
     ]
    }
   ],
   "source": [
    "# evaluating the model on training set\n",
    "score = model.evaluate(X_train, y_train)\n",
    "print(\"Model loss : \", score[0])\n",
    "print(\"Model accuracy : \", score[1])"
   ]
  },
  {
   "cell_type": "code",
   "execution_count": 89,
   "metadata": {},
   "outputs": [
    {
     "name": "stdout",
     "output_type": "stream",
     "text": [
      "14/14 [==============================] - 0s 891us/step - loss: 0.6864 - accuracy: 0.8412\n",
      "Model loss :  0.6863976716995239\n",
      "Model accuracy :  0.8412322402000427\n"
     ]
    }
   ],
   "source": [
    "# evaluating the model on testing set\n",
    "score = model.evaluate(X_test, y_test)\n",
    "print(\"Model loss : \", score[0])\n",
    "print(\"Model accuracy : \", score[1])"
   ]
  },
  {
   "cell_type": "code",
   "execution_count": 110,
   "metadata": {},
   "outputs": [
    {
     "data": {
      "text/plain": [
       "<matplotlib.image.AxesImage at 0x21228eee700>"
      ]
     },
     "execution_count": 110,
     "metadata": {},
     "output_type": "execute_result"
    },
    {
     "data": {
      "image/png": "[encoded data removed]",
      "text/plain": [
       "<Figure size 432x288 with 1 Axes>"
      ]
     },
     "metadata": {
      "needs_background": "light"
     },
     "output_type": "display_data"
    }
   ],
   "source": [
    "img = X_test[32]\n",
    "plt.imshow(img.reshape(32, 32), cmap = 'gray')"
   ]
  },
  {
   "cell_type": "code",
   "execution_count": 119,
   "metadata": {},
   "outputs": [
    {
     "name": "stdout",
     "output_type": "stream",
     "text": [
      "0\n"
     ]
    }
   ],
   "source": [
    "pred = model.predict(img.reshape(-1, 32, 32, 1))\n",
    "print(np.argmax(pred))"
   ]
  },
  {
   "cell_type": "code",
   "execution_count": 120,
   "metadata": {},
   "outputs": [
    {
     "data": {
      "text/plain": [
       "<matplotlib.image.AxesImage at 0x21221605d00>"
      ]
     },
     "execution_count": 120,
     "metadata": {},
     "output_type": "execute_result"
    },
    {
     "data": {
      "image/png": "[encoded data removed]",
      "text/plain": [
       "<Figure size 432x288 with 1 Axes>"
      ]
     },
     "metadata": {
      "needs_background": "light"
     },
     "output_type": "display_data"
    }
   ],
   "source": [
    "img = X_test[0]\n",
    "plt.imshow(img.reshape(32, 32), cmap = 'gray')"
   ]
  },
  {
   "cell_type": "code",
   "execution_count": 121,
   "metadata": {},
   "outputs": [
    {
     "name": "stdout",
     "output_type": "stream",
     "text": [
      "9\n"
     ]
    }
   ],
   "source": [
    "pred = model.predict(img.reshape(-1, 32, 32, 1))\n",
    "print(np.argmax(pred))"
   ]
  },
  {
   "cell_type": "code",
   "execution_count": null,
   "metadata": {},
   "outputs": [],
   "source": []
  }
 ],
 "metadata": {
  "kernelspec": {
   "display_name": "Python 3",
   "language": "python",
   "name": "python3"
  },
  "language_info": {
   "codemirror_mode": {
    "name": "ipython",
    "version": 3
   },
   "file_extension": ".py",
   "mimetype": "text/x-python",
   "name": "python",
   "nbconvert_exporter": "python",
   "pygments_lexer": "ipython3",
   "version": "3.8.3"
  }
 },
 "nbformat": 4,
 "nbformat_minor": 4
}
