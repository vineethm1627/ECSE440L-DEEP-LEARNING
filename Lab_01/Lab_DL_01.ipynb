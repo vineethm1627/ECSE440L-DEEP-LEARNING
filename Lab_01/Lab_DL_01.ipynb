{
  "nbformat": 4,
  "nbformat_minor": 0,
  "metadata": {
    "colab": {
      "name": "Lab_IVA_01.ipynb",
      "provenance": [],
      "collapsed_sections": []
    },
    "kernelspec": {
      "name": "python3",
      "display_name": "Python 3"
    }
  },
  "cells": [
    {
      "cell_type": "markdown",
      "metadata": {
        "id": "6nPfvXUWjoL7",
        "colab_type": "text"
      },
      "source": [
        "#Basics of Numpy **Arrays**"
      ]
    },
    {
      "cell_type": "markdown",
      "metadata": {
        "id": "6adDAY6bPBVp",
        "colab_type": "text"
      },
      "source": [
        "Numpy is a package for scientific computing which has support for a powerful n-dimensional array object."
      ]
    },
    {
      "cell_type": "code",
      "metadata": {
        "id": "Zsz1ugg2g6Fh",
        "colab_type": "code",
        "colab": {}
      },
      "source": [
        "#importing the main library.\n",
        "import numpy as np"
      ],
      "execution_count": 1,
      "outputs": []
    },
    {
      "cell_type": "code",
      "metadata": {
        "id": "bYH_UNPchDER",
        "colab_type": "code",
        "colab": {
          "base_uri": "https://localhost:8080/",
          "height": 84
        },
        "outputId": "61e21091-d519-4a3d-9850-e5569c128cc5"
      },
      "source": [
        "#creating an array of Integers.\n",
        "arr_int = np.array([1,2,3], dtype = \"int\")\n",
        "print(arr_int)\n",
        "print(\"Type of numpy array : \", type(arr_int))\n",
        "print(\"Data type of the numpy array : \", arr_int.dtype)\n",
        "print(\"Dimension of the numpy array : \", arr_int.shape)"
      ],
      "execution_count": 2,
      "outputs": [
        {
          "output_type": "stream",
          "text": [
            "[1 2 3]\n",
            "Type of numpy array :  <class 'numpy.ndarray'>\n",
            "Data type of the numpy array :  int64\n",
            "Dimension of the numpy array :  (3,)\n"
          ],
          "name": "stdout"
        }
      ]
    },
    {
      "cell_type": "code",
      "metadata": {
        "id": "LABABR2whHCa",
        "colab_type": "code",
        "colab": {
          "base_uri": "https://localhost:8080/",
          "height": 84
        },
        "outputId": "710e5c46-e105-478b-8687-89f0072f0c8c"
      },
      "source": [
        "#creating an array of type float\n",
        "arr_float = np.array([1,2,3], dtype = \"float\")\n",
        "print(arr_float)\n",
        "print(\"Type of the numpy array : \", type(arr_float))\n",
        "print(\"Data type of the numpy array : \", arr_float.dtype)\n",
        "print(\"Dimensions of the numpy array : \", arr_float.shape)"
      ],
      "execution_count": 3,
      "outputs": [
        {
          "output_type": "stream",
          "text": [
            "[1. 2. 3.]\n",
            "Type of the numpy array :  <class 'numpy.ndarray'>\n",
            "Data type of the numpy array :  float64\n",
            "Dimensions of the numpy array :  (3,)\n"
          ],
          "name": "stdout"
        }
      ]
    },
    {
      "cell_type": "code",
      "metadata": {
        "id": "ETQy1v5MhMmW",
        "colab_type": "code",
        "colab": {
          "base_uri": "https://localhost:8080/",
          "height": 185
        },
        "outputId": "bd565028-5238-4bbf-fb5c-60fc1ddf26cb"
      },
      "source": [
        "#creating an array of complex numbers\n",
        "arr_complex = np.array([1,2j,3 + 3j], dtype = \"complex\")\n",
        "print(arr_complex)\n",
        "print(\"Type of the numpy array : \", type(arr_complex))\n",
        "print(\"Data type of the numpy array : \", arr_complex.dtype)\n",
        "print(\"Dimensions of the numpy array : \", arr_complex.shape)\n",
        "\n",
        "print(\"=========================================\")\n",
        "print(\"Real part : \", np.real(arr_complex))\n",
        "print(\"Imaginary part : \", np.imag(arr_complex))\n",
        "print(\"Conjugate : \", np.conj(arr_complex))\n",
        "print(\"Angle in radian : \", np.angle(arr_complex))\n",
        "print(\"Angle in degrees : \", np.angle(arr_complex, deg=True))"
      ],
      "execution_count": 4,
      "outputs": [
        {
          "output_type": "stream",
          "text": [
            "[1.+0.j 0.+2.j 3.+3.j]\n",
            "Type of the numpy array :  <class 'numpy.ndarray'>\n",
            "Data type of the numpy array :  complex128\n",
            "Dimensions of the numpy array :  (3,)\n",
            "=========================================\n",
            "Real part :  [1. 0. 3.]\n",
            "Imaginary part :  [0. 2. 3.]\n",
            "Conjugate :  [1.-0.j 0.-2.j 3.-3.j]\n",
            "Angle in radian :  [0.         1.57079633 0.78539816]\n",
            "Angle in degrees :  [ 0. 90. 45.]\n"
          ],
          "name": "stdout"
        }
      ]
    },
    {
      "cell_type": "markdown",
      "metadata": {
        "id": "XWMUobrARigW",
        "colab_type": "text"
      },
      "source": [
        "Matrix Operations using Numpy"
      ]
    },
    {
      "cell_type": "markdown",
      "metadata": {
        "id": "4s7AqZSBRow3",
        "colab_type": "text"
      },
      "source": [
        "Multiplication using numpy arrays also known as vectorization has the main aim to reduce or remove the explicit use of for loops in the program making the computation speed up.\n",
        "Numpy is a build in a package in python for array-processing and manipulation.For larger matrix operations we use numpy python package which is 1000 times faster than iterative one method."
      ]
    },
    {
      "cell_type": "code",
      "metadata": {
        "id": "z-3rHbCuhffd",
        "colab_type": "code",
        "colab": {
          "base_uri": "https://localhost:8080/",
          "height": 118
        },
        "outputId": "dac7d384-bb72-4017-c4fc-0e78cf4d5a20"
      },
      "source": [
        "mat1 = np.array([[1, 2, 3], [1, 0, 1]])\n",
        "mat2 = np.array([[1, 2, 1], [1, 1, 1]])\n",
        "\n",
        "print(\"Shape of matrix 1 : \", mat1.shape)\n",
        "print(\"No. of rows : {} \\nNo. of columns : {}\".format(mat1.shape[0], mat1.shape[1]))\n",
        "print(\"Shape of matrix 2 : \", mat2.shape)\n",
        "print(\"No. of rows : {} \\nNo. of columns : {}\".format(mat2.shape[0], mat2.shape[1]))"
      ],
      "execution_count": 5,
      "outputs": [
        {
          "output_type": "stream",
          "text": [
            "Shape of matrix 1 :  (2, 3)\n",
            "No. of rows : 2 \n",
            "No. of columns : 3\n",
            "Shape of matrix 2 :  (2, 3)\n",
            "No. of rows : 2 \n",
            "No. of columns : 3\n"
          ],
          "name": "stdout"
        }
      ]
    },
    {
      "cell_type": "code",
      "metadata": {
        "id": "VjfLMILsh5YK",
        "colab_type": "code",
        "colab": {
          "base_uri": "https://localhost:8080/",
          "height": 252
        },
        "outputId": "329746f9-390d-4f0d-dd7b-a65655b0c7e9"
      },
      "source": [
        "#Arithmetic Operations\n",
        "\n",
        "print(\"Mat 1 : \\n\", mat1)\n",
        "print(\"Mat 2 : \\n\", mat2)\n",
        "\n",
        "#1) Addition\n",
        "print(np.add(mat1, mat2))\n",
        "\n",
        "#2) Subtraction\n",
        "print(np.subtract(mat1, mat2))\n",
        "\n",
        "#3) Multiplication [performs element wise product]\n",
        "print(np.multiply(mat1, mat2))\n",
        "\n",
        "#4) Division\n",
        "print(np.divide(mat1, mat2))\n"
      ],
      "execution_count": 6,
      "outputs": [
        {
          "output_type": "stream",
          "text": [
            "Mat 1 : \n",
            " [[1 2 3]\n",
            " [1 0 1]]\n",
            "Mat 2 : \n",
            " [[1 2 1]\n",
            " [1 1 1]]\n",
            "[[2 4 4]\n",
            " [2 1 2]]\n",
            "[[ 0  0  2]\n",
            " [ 0 -1  0]]\n",
            "[[1 4 3]\n",
            " [1 0 1]]\n",
            "[[1. 1. 3.]\n",
            " [1. 0. 1.]]\n"
          ],
          "name": "stdout"
        }
      ]
    },
    {
      "cell_type": "code",
      "metadata": {
        "id": "HmohcHmtUJb3",
        "colab_type": "code",
        "colab": {
          "base_uri": "https://localhost:8080/",
          "height": 67
        },
        "outputId": "dbc6d1f5-fd9d-4e30-f3fa-5479dca7f9d2"
      },
      "source": [
        "#creating a array filled with random values\n",
        "mat3 = np.random.rand(3, 2)\n",
        "mat3"
      ],
      "execution_count": 7,
      "outputs": [
        {
          "output_type": "execute_result",
          "data": {
            "text/plain": [
              "array([[0.67698407, 0.37775915],\n",
              "       [0.89106466, 0.73787107],\n",
              "       [0.84334236, 0.13715661]])"
            ]
          },
          "metadata": {
            "tags": []
          },
          "execution_count": 7
        }
      ]
    },
    {
      "cell_type": "code",
      "metadata": {
        "id": "qWqxBhR3h9cm",
        "colab_type": "code",
        "colab": {
          "base_uri": "https://localhost:8080/",
          "height": 101
        },
        "outputId": "1e6d6383-5bcf-4879-8f1e-1aab9a999214"
      },
      "source": [
        "#dot product\n",
        "print(\"Mat 1 : \", mat1.shape)\n",
        "print(\"Mat 3 : \", mat3.shape)\n",
        "\n",
        "mat_dot = np.dot(mat1, mat3)\n",
        "print(mat_dot)\n",
        "print(\"Mat dot : \", mat_dot.shape)"
      ],
      "execution_count": 8,
      "outputs": [
        {
          "output_type": "stream",
          "text": [
            "Mat 1 :  (2, 3)\n",
            "Mat 3 :  (3, 2)\n",
            "[[4.98914047 2.26497111]\n",
            " [1.52032643 0.51491576]]\n",
            "Mat dot :  (2, 2)\n"
          ],
          "name": "stdout"
        }
      ]
    },
    {
      "cell_type": "code",
      "metadata": {
        "id": "a3UjN_dMicZF",
        "colab_type": "code",
        "colab": {
          "base_uri": "https://localhost:8080/",
          "height": 437
        },
        "outputId": "8a47e95f-1312-419a-9cc3-9f3ea8f3928c"
      },
      "source": [
        "#Matrix Operations\n",
        "print(\"Mat 1 : \\n\", mat1)\n",
        "print(\"Mat 1 : \", mat1.shape)\n",
        "print(\"Mat 3 : \\n\", mat3)\n",
        "print(\"Mat 3 : \", mat3.shape)\n",
        "\n",
        "#Transpose\n",
        "print(\"Transpose of Mat 1 : \", mat1.T)\n",
        "print(\"Mat transpose : \", mat1.T.shape)\n",
        "\n",
        "#creating arrays of zeros\n",
        "print(\"Array of zeros : \\n\", np.zeros((4,4)))\n",
        "\n",
        "#creating arrays of ones\n",
        "print(\"Arrays of ones : \\n\", np.ones((2, 6)))\n",
        "\n",
        "#creating a continuous ranged array\n",
        "print(\"Array : \", np.arange(6))\n",
        "print(\"shape : \", np.arange(6).shape)\n",
        "print(\"Reshaped : \", np.arange(6).reshape(2, -1))"
      ],
      "execution_count": 9,
      "outputs": [
        {
          "output_type": "stream",
          "text": [
            "Mat 1 : \n",
            " [[1 2 3]\n",
            " [1 0 1]]\n",
            "Mat 1 :  (2, 3)\n",
            "Mat 3 : \n",
            " [[0.67698407 0.37775915]\n",
            " [0.89106466 0.73787107]\n",
            " [0.84334236 0.13715661]]\n",
            "Mat 3 :  (3, 2)\n",
            "Transpose of Mat 1 :  [[1 1]\n",
            " [2 0]\n",
            " [3 1]]\n",
            "Mat transpose :  (3, 2)\n",
            "Array of zeros : \n",
            " [[0. 0. 0. 0.]\n",
            " [0. 0. 0. 0.]\n",
            " [0. 0. 0. 0.]\n",
            " [0. 0. 0. 0.]]\n",
            "Arrays of ones : \n",
            " [[1. 1. 1. 1. 1. 1.]\n",
            " [1. 1. 1. 1. 1. 1.]]\n",
            "Array :  [0 1 2 3 4 5]\n",
            "shape :  (6,)\n",
            "Reshaped :  [[0 1 2]\n",
            " [3 4 5]]\n"
          ],
          "name": "stdout"
        }
      ]
    },
    {
      "cell_type": "code",
      "metadata": {
        "id": "lshTCDsgXaWI",
        "colab_type": "code",
        "colab": {
          "base_uri": "https://localhost:8080/",
          "height": 185
        },
        "outputId": "7dd0e63c-b03b-4cdd-936e-a34ad2077c8b"
      },
      "source": [
        "#Accessing the matrix elements\n",
        "\n",
        "mat = np.array([1,2,3,4,5,6,7,8])\n",
        "print(\"Shape\", mat.shape)\n",
        "mat_r = mat.reshape(-1, 1)\n",
        "print(mat_r)\n",
        "print(mat_r.shape)"
      ],
      "execution_count": 10,
      "outputs": [
        {
          "output_type": "stream",
          "text": [
            "Shape (8,)\n",
            "[[1]\n",
            " [2]\n",
            " [3]\n",
            " [4]\n",
            " [5]\n",
            " [6]\n",
            " [7]\n",
            " [8]]\n",
            "(8, 1)\n"
          ],
          "name": "stdout"
        }
      ]
    },
    {
      "cell_type": "code",
      "metadata": {
        "id": "pkndZ98cZ9Xn",
        "colab_type": "code",
        "colab": {
          "base_uri": "https://localhost:8080/",
          "height": 50
        },
        "outputId": "b46bd28e-7f48-4893-a608-e3e0bc140d80"
      },
      "source": [
        "#1D matrix\n",
        "print(\"First element : \", mat[0])\n",
        "print(\"Last element : \", mat[-1])"
      ],
      "execution_count": 11,
      "outputs": [
        {
          "output_type": "stream",
          "text": [
            "First element :  1\n",
            "Last element :  8\n"
          ],
          "name": "stdout"
        }
      ]
    },
    {
      "cell_type": "code",
      "metadata": {
        "id": "37ggpnezaS0z",
        "colab_type": "code",
        "colab": {
          "base_uri": "https://localhost:8080/",
          "height": 185
        },
        "outputId": "1275eb23-5a08-4b44-c648-7f4b3f719989"
      },
      "source": [
        "#2D matrix\n",
        "mat1[-1][-1] = 10 \n",
        "print(\"2D matrix : \\n\", mat1)\n",
        "print(\"shape\", mat1.shape)\n",
        "\n",
        "print(\"First element of first row : \", mat1[0][0])\n",
        "print(\"Last element of last row : \", mat1[-1][-1])\n",
        "print(\"First row : \", mat1[0])\n",
        "print(\"Last row : \", mat1[-1])\n",
        "print(\"First column : \", mat1[:, 0])\n",
        "print(\"Last column : \", mat1[:, -1])"
      ],
      "execution_count": 12,
      "outputs": [
        {
          "output_type": "stream",
          "text": [
            "2D matrix : \n",
            " [[ 1  2  3]\n",
            " [ 1  0 10]]\n",
            "shape (2, 3)\n",
            "First element of first row :  1\n",
            "Last element of last row :  10\n",
            "First row :  [1 2 3]\n",
            "Last row :  [ 1  0 10]\n",
            "First column :  [1 1]\n",
            "Last column :  [ 3 10]\n"
          ],
          "name": "stdout"
        }
      ]
    },
    {
      "cell_type": "code",
      "metadata": {
        "id": "GnYOikoAapjh",
        "colab_type": "code",
        "colab": {
          "base_uri": "https://localhost:8080/",
          "height": 252
        },
        "outputId": "fde354e1-c7a2-4e6a-d0c8-c1a131f8386d"
      },
      "source": [
        "#Slicing of matrix\n",
        "print(\"mat : \", mat)\n",
        "\n",
        "print(mat[:]) #entire matrix\n",
        "print(mat[:5])\n",
        "print(mat[1:4])\n",
        "print(mat[:-1]) #all except last one.\n",
        "print(mat[:-5])\n",
        "\n",
        "print(\"========================================\")\n",
        "print(\"mat1 : \\n\", mat1)\n",
        "print(mat1[:-1]) #all rows except last one\n",
        "print()\n",
        "print(mat1[:, 1:3])"
      ],
      "execution_count": 13,
      "outputs": [
        {
          "output_type": "stream",
          "text": [
            "mat :  [1 2 3 4 5 6 7 8]\n",
            "[1 2 3 4 5 6 7 8]\n",
            "[1 2 3 4 5]\n",
            "[2 3 4]\n",
            "[1 2 3 4 5 6 7]\n",
            "[1 2 3]\n",
            "========================================\n",
            "mat1 : \n",
            " [[ 1  2  3]\n",
            " [ 1  0 10]]\n",
            "[[1 2 3]]\n",
            "\n",
            "[[ 2  3]\n",
            " [ 0 10]]\n"
          ],
          "name": "stdout"
        }
      ]
    },
    {
      "cell_type": "code",
      "metadata": {
        "id": "a7FI-__bb6zL",
        "colab_type": "code",
        "colab": {
          "base_uri": "https://localhost:8080/",
          "height": 50
        },
        "outputId": "d93241f0-cab1-4364-c59a-da7b93b07932"
      },
      "source": [
        "#reversing the array\n",
        "print(\"Original array : \", arr_int)\n",
        "print(\"Reversed array : \", arr_int[::-1])"
      ],
      "execution_count": 14,
      "outputs": [
        {
          "output_type": "stream",
          "text": [
            "Original array :  [1 2 3]\n",
            "Reversed array :  [3 2 1]\n"
          ],
          "name": "stdout"
        }
      ]
    },
    {
      "cell_type": "code",
      "metadata": {
        "id": "YY8xbF6MNdYL",
        "colab_type": "code",
        "colab": {
          "base_uri": "https://localhost:8080/",
          "height": 84
        },
        "outputId": "3f667b32-5b0b-4f41-abf4-5a41d2b5e4c2"
      },
      "source": [
        "#creating an array using repeating list\n",
        "rep = np.array([1,2,3] * 3)\n",
        "print(rep)\n",
        "print(rep.reshape(3, -1))"
      ],
      "execution_count": 20,
      "outputs": [
        {
          "output_type": "stream",
          "text": [
            "[1 2 3 1 2 3 1 2 3]\n",
            "[[1 2 3]\n",
            " [1 2 3]\n",
            " [1 2 3]]\n"
          ],
          "name": "stdout"
        }
      ]
    },
    {
      "cell_type": "markdown",
      "metadata": {
        "id": "9Li81EdDeHjN",
        "colab_type": "text"
      },
      "source": [
        "#Usage of Numpy in ML/AI"
      ]
    },
    {
      "cell_type": "code",
      "metadata": {
        "id": "e9eSXvBVb73x",
        "colab_type": "code",
        "colab": {
          "base_uri": "https://localhost:8080/",
          "height": 134
        },
        "outputId": "f392352d-ad58-4ef5-9ac4-a85db2a66efd"
      },
      "source": [
        "#mathematical functions\n",
        "a = np.array([1, 2, 3, 4, 0])\n",
        "print(a.sum())\n",
        "print(a.max())\n",
        "print(a.min())\n",
        "print(a.mean())\n",
        "print(a.std())\n",
        "\n",
        "print(a.argmax()) #index of the max element.\n",
        "print(a.argmin())"
      ],
      "execution_count": 25,
      "outputs": [
        {
          "output_type": "stream",
          "text": [
            "10\n",
            "4\n",
            "0\n",
            "2.0\n",
            "1.4142135623730951\n",
            "3\n",
            "4\n"
          ],
          "name": "stdout"
        }
      ]
    },
    {
      "cell_type": "code",
      "metadata": {
        "id": "xFjmPww2Majc",
        "colab_type": "code",
        "colab": {
          "base_uri": "https://localhost:8080/",
          "height": 34
        },
        "outputId": "f8e5205a-6e5f-41d2-b6c9-0629ebadc81d"
      },
      "source": [
        "#creating an evenly spaced numbers over a specified interval.\n",
        "spaced = np.linspace(0, 10, 5) #0 to 10 in 5 equal partitions\n",
        "spaced"
      ],
      "execution_count": 17,
      "outputs": [
        {
          "output_type": "execute_result",
          "data": {
            "text/plain": [
              "array([ 0. ,  2.5,  5. ,  7.5, 10. ])"
            ]
          },
          "metadata": {
            "tags": []
          },
          "execution_count": 17
        }
      ]
    },
    {
      "cell_type": "code",
      "metadata": {
        "id": "09lPpSbWN7lT",
        "colab_type": "code",
        "colab": {
          "base_uri": "https://localhost:8080/",
          "height": 50
        },
        "outputId": "fed8c439-11d7-4061-e571-fb5e6b438b25"
      },
      "source": [
        "#typecasting to a specific type\n",
        "a = np.array([[1,2],[3,4]])\n",
        "print(a.dtype)\n",
        "a = a.astype('f')\n",
        "print(a.dtype)"
      ],
      "execution_count": 24,
      "outputs": [
        {
          "output_type": "stream",
          "text": [
            "int64\n",
            "float32\n"
          ],
          "name": "stdout"
        }
      ]
    },
    {
      "cell_type": "markdown",
      "metadata": {
        "id": "yMklg7U8QM0Q",
        "colab_type": "text"
      },
      "source": [
        "#Saving and loading numpy arrays"
      ]
    },
    {
      "cell_type": "code",
      "metadata": {
        "id": "Al5pe6fRQo9S",
        "colab_type": "code",
        "colab": {}
      },
      "source": [
        "#importing the necessary modules\n",
        "from numpy import asarray\n",
        "from numpy import savetxt, loadtxt, save, load"
      ],
      "execution_count": 40,
      "outputs": []
    },
    {
      "cell_type": "code",
      "metadata": {
        "id": "DMay-8tkP5Xj",
        "colab_type": "code",
        "colab": {
          "base_uri": "https://localhost:8080/",
          "height": 67
        },
        "outputId": "fce23f5d-5488-477e-9c34-deaaa2b4b1b0"
      },
      "source": [
        "#saving a numpy array to csv file\n",
        "arr1 = np.array([[1,2,3,4], [5,6,7,8]], dtype=\"int\")\n",
        "print(arr.shape)\n",
        "savetxt('arr1.csv', arr1, delimiter=',')\n",
        "print(arr1)"
      ],
      "execution_count": 34,
      "outputs": [
        {
          "output_type": "stream",
          "text": [
            "(1, 4)\n",
            "[[1 2 3 4]\n",
            " [5 6 7 8]]\n"
          ],
          "name": "stdout"
        }
      ]
    },
    {
      "cell_type": "code",
      "metadata": {
        "id": "z-r-xlgBQ4MS",
        "colab_type": "code",
        "colab": {
          "base_uri": "https://localhost:8080/",
          "height": 50
        },
        "outputId": "856a1ed7-2f7a-4ba1-bd95-47b21cacfd85"
      },
      "source": [
        "#loading the saved csv file\n",
        "import os\n",
        "os.listdir()\n",
        "data_csv = loadtxt('arr1.csv', delimiter=',')\n",
        "data_csv"
      ],
      "execution_count": 35,
      "outputs": [
        {
          "output_type": "execute_result",
          "data": {
            "text/plain": [
              "array([[1., 2., 3., 4.],\n",
              "       [5., 6., 7., 8.]])"
            ]
          },
          "metadata": {
            "tags": []
          },
          "execution_count": 35
        }
      ]
    },
    {
      "cell_type": "code",
      "metadata": {
        "id": "s_9EWbvMRahy",
        "colab_type": "code",
        "colab": {}
      },
      "source": [
        "#saving a numpy array to npy file\n",
        "save('arr1.npy', arr1)"
      ],
      "execution_count": 37,
      "outputs": []
    },
    {
      "cell_type": "code",
      "metadata": {
        "id": "7MrNAAPYSUiQ",
        "colab_type": "code",
        "colab": {
          "base_uri": "https://localhost:8080/",
          "height": 50
        },
        "outputId": "f750cccd-409b-44fd-9d53-ec9a200ae3a7"
      },
      "source": [
        "#loading the array from npy file\n",
        "data_npy = load('arr1.npy')\n",
        "data_npy"
      ],
      "execution_count": 41,
      "outputs": [
        {
          "output_type": "execute_result",
          "data": {
            "text/plain": [
              "array([[1, 2, 3, 4],\n",
              "       [5, 6, 7, 8]])"
            ]
          },
          "metadata": {
            "tags": []
          },
          "execution_count": 41
        }
      ]
    }
  ]
}