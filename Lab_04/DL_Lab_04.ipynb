{
 "cells": [
  {
   "cell_type": "markdown",
   "metadata": {},
   "source": [
    "1) first open the file using fopen\n",
    "2) import nltk\n",
    "3) tokenize ( sentence into words and also removes the stop words)\n",
    "4) stemming (root of the word is used) and normalization\n",
    "5) feature extraction\n",
    "6) classification into motivational and demotivational\n",
    "\n"
   ]
  },
  {
   "cell_type": "markdown",
   "metadata": {},
   "source": [
    "<a href = \"https://realpython.com/python-keras-text-classification/\"><button> Article-Click Me </button> </a>"
   ]
  },
  {
   "cell_type": "code",
   "execution_count": 1,
   "metadata": {},
   "outputs": [
    {
     "name": "stdout",
     "output_type": "stream",
     "text": [
      "Requirement already satisfied: nltk in c:\\users\\vinee\\anaconda3\\lib\\site-packages (3.5)\n",
      "Requirement already satisfied: tqdm in c:\\users\\vinee\\anaconda3\\lib\\site-packages (from nltk) (4.47.0)\n",
      "Requirement already satisfied: regex in c:\\users\\vinee\\anaconda3\\lib\\site-packages (from nltk) (2020.6.8)\n",
      "Requirement already satisfied: joblib in c:\\users\\vinee\\anaconda3\\lib\\site-packages (from nltk) (0.16.0)\n",
      "Requirement already satisfied: click in c:\\users\\vinee\\anaconda3\\lib\\site-packages (from nltk) (7.1.2)\n"
     ]
    }
   ],
   "source": [
    "!pip install nltk"
   ]
  },
  {
   "cell_type": "code",
   "execution_count": 2,
   "metadata": {},
   "outputs": [],
   "source": [
    "#importing the libraries\n",
    "import nltk\n",
    "import pandas as pd\n",
    "import numpy as np\n",
    "import matplotlib.pyplot as plt\n",
    "%matplotlib inline"
   ]
  },
  {
   "cell_type": "code",
   "execution_count": 3,
   "metadata": {},
   "outputs": [
    {
     "name": "stderr",
     "output_type": "stream",
     "text": [
      "[nltk_data] Downloading package punkt to\n",
      "[nltk_data]     C:\\Users\\vinee\\AppData\\Roaming\\nltk_data...\n",
      "[nltk_data]   Package punkt is already up-to-date!\n"
     ]
    },
    {
     "data": {
      "text/plain": [
       "True"
      ]
     },
     "execution_count": 3,
     "metadata": {},
     "output_type": "execute_result"
    }
   ],
   "source": [
    "nltk.download('punkt')"
   ]
  },
  {
   "cell_type": "code",
   "execution_count": 4,
   "metadata": {},
   "outputs": [
    {
     "name": "stdout",
     "output_type": "stream",
     "text": [
      "['You will win if you work hard']\n"
     ]
    }
   ],
   "source": [
    "#playing with nltk\n",
    "\n",
    "text = \"You will win if you work hard\"\n",
    "print(nltk.sent_tokenize(text))"
   ]
  },
  {
   "cell_type": "code",
   "execution_count": 5,
   "metadata": {},
   "outputs": [
    {
     "name": "stdout",
     "output_type": "stream",
     "text": [
      "['You', 'will', 'win', 'if', 'you', 'work', 'hard']\n"
     ]
    }
   ],
   "source": [
    "print(nltk.word_tokenize(text))"
   ]
  },
  {
   "cell_type": "code",
   "execution_count": 6,
   "metadata": {},
   "outputs": [
    {
     "name": "stderr",
     "output_type": "stream",
     "text": [
      "[nltk_data] Downloading package stopwords to\n",
      "[nltk_data]     C:\\Users\\vinee\\AppData\\Roaming\\nltk_data...\n",
      "[nltk_data]   Package stopwords is already up-to-date!\n"
     ]
    },
    {
     "data": {
      "text/plain": [
       "True"
      ]
     },
     "execution_count": 6,
     "metadata": {},
     "output_type": "execute_result"
    }
   ],
   "source": [
    "nltk.download('stopwords')"
   ]
  },
  {
   "cell_type": "code",
   "execution_count": 7,
   "metadata": {},
   "outputs": [
    {
     "name": "stdout",
     "output_type": "stream",
     "text": [
      "179\n",
      "['i', 'me', 'my', 'myself', 'we', 'our', 'ours', 'ourselves', 'you', \"you're\", \"you've\", \"you'll\", \"you'd\", 'your', 'yours', 'yourself', 'yourselves', 'he', 'him', 'his', 'himself', 'she', \"she's\", 'her', 'hers', 'herself', 'it', \"it's\", 'its', 'itself', 'they', 'them', 'their', 'theirs', 'themselves', 'what', 'which', 'who', 'whom', 'this', 'that', \"that'll\", 'these', 'those', 'am', 'is', 'are', 'was', 'were', 'be', 'been', 'being', 'have', 'has', 'had', 'having', 'do', 'does', 'did', 'doing', 'a', 'an', 'the', 'and', 'but', 'if', 'or', 'because', 'as', 'until', 'while', 'of', 'at', 'by', 'for', 'with', 'about', 'against', 'between', 'into', 'through', 'during', 'before', 'after', 'above', 'below', 'to', 'from', 'up', 'down', 'in', 'out', 'on', 'off', 'over', 'under', 'again', 'further', 'then', 'once', 'here', 'there', 'when', 'where', 'why', 'how', 'all', 'any', 'both', 'each', 'few', 'more', 'most', 'other', 'some', 'such', 'no', 'nor', 'not', 'only', 'own', 'same', 'so', 'than', 'too', 'very', 's', 't', 'can', 'will', 'just', 'don', \"don't\", 'should', \"should've\", 'now', 'd', 'll', 'm', 'o', 're', 've', 'y', 'ain', 'aren', \"aren't\", 'couldn', \"couldn't\", 'didn', \"didn't\", 'doesn', \"doesn't\", 'hadn', \"hadn't\", 'hasn', \"hasn't\", 'haven', \"haven't\", 'isn', \"isn't\", 'ma', 'mightn', \"mightn't\", 'mustn', \"mustn't\", 'needn', \"needn't\", 'shan', \"shan't\", 'shouldn', \"shouldn't\", 'wasn', \"wasn't\", 'weren', \"weren't\", 'won', \"won't\", 'wouldn', \"wouldn't\"]\n"
     ]
    }
   ],
   "source": [
    "#stop words\n",
    "from nltk.corpus import stopwords\n",
    "print(len(stopwords.words(\"english\")))\n",
    "print(stopwords.words(\"english\"))"
   ]
  },
  {
   "cell_type": "code",
   "execution_count": 8,
   "metadata": {},
   "outputs": [
    {
     "name": "stdout",
     "output_type": "stream",
     "text": [
      "['You', 'will', 'win', 'if', 'you', 'work', 'hard']\n",
      "['You', 'win', 'work', 'hard']\n"
     ]
    }
   ],
   "source": [
    "#removing the stop words\n",
    "stop_words = set(stopwords.words('english'))\n",
    "words = nltk.word_tokenize(text)\n",
    "words_stop = [i for i in words if not i in stop_words]\n",
    "print(words)\n",
    "print(words_stop)"
   ]
  },
  {
   "cell_type": "code",
   "execution_count": 9,
   "metadata": {},
   "outputs": [
    {
     "name": "stdout",
     "output_type": "stream",
     "text": [
      "{'get': 3, 'up': 10, 'early': 2, 'you': 14, 'will': 11, 'win': 12, 'if': 5, 'work': 13, 'hard': 4, 'life': 8, 'is': 6, 'short': 9, 'don': 1, 'be': 0, 'lazy': 7}\n",
      "(3, 15)\n",
      "[[0 0 1 1 0 0 0 0 0 0 1 0 0 0 0]\n",
      " [0 0 0 0 1 1 0 0 0 0 0 1 1 1 2]\n",
      " [1 1 0 0 0 0 1 1 1 1 0 0 0 0 0]]\n"
     ]
    }
   ],
   "source": [
    "from sklearn.feature_extraction.text import CountVectorizer\n",
    "sentences = [\"Get up early\", \"You will win if you work hard\", \"life is short don't be lazy\"]\n",
    "vec = CountVectorizer(min_df = 0, lowercase = True)\n",
    "vec.fit(sentences)\n",
    "print(vec.vocabulary_) #shows the word to index mapping\n",
    "\n",
    "# lets transform the sentences line by line\n",
    "word_vector = vec.transform(sentences).toarray()\n",
    "print(word_vector.shape)\n",
    "print(word_vector)"
   ]
  },
  {
   "cell_type": "code",
   "execution_count": 10,
   "metadata": {},
   "outputs": [
    {
     "name": "stdout",
     "output_type": "stream",
     "text": [
      "(20, 2)\n"
     ]
    },
    {
     "data": {
      "text/html": [
       "<div>\n",
       "<style scoped>\n",
       "    .dataframe tbody tr th:only-of-type {\n",
       "        vertical-align: middle;\n",
       "    }\n",
       "\n",
       "    .dataframe tbody tr th {\n",
       "        vertical-align: top;\n",
       "    }\n",
       "\n",
       "    .dataframe thead th {\n",
       "        text-align: right;\n",
       "    }\n",
       "</style>\n",
       "<table border=\"1\" class=\"dataframe\">\n",
       "  <thead>\n",
       "    <tr style=\"text-align: right;\">\n",
       "      <th></th>\n",
       "      <th>Sentences</th>\n",
       "      <th>Labels</th>\n",
       "    </tr>\n",
       "  </thead>\n",
       "  <tbody>\n",
       "    <tr>\n",
       "      <th>0</th>\n",
       "      <td>You will win if you work hard</td>\n",
       "      <td>1</td>\n",
       "    </tr>\n",
       "    <tr>\n",
       "      <th>1</th>\n",
       "      <td>Be lazy and win the life</td>\n",
       "      <td>0</td>\n",
       "    </tr>\n",
       "    <tr>\n",
       "      <th>2</th>\n",
       "      <td>Quit life and give up</td>\n",
       "      <td>0</td>\n",
       "    </tr>\n",
       "    <tr>\n",
       "      <th>3</th>\n",
       "      <td>Be lazy and quit</td>\n",
       "      <td>0</td>\n",
       "    </tr>\n",
       "    <tr>\n",
       "      <th>4</th>\n",
       "      <td>Life is short don't be lazy</td>\n",
       "      <td>1</td>\n",
       "    </tr>\n",
       "    <tr>\n",
       "      <th>5</th>\n",
       "      <td>Don't be lazy and win</td>\n",
       "      <td>1</td>\n",
       "    </tr>\n",
       "    <tr>\n",
       "      <th>6</th>\n",
       "      <td>Don't be lazy and work hard</td>\n",
       "      <td>1</td>\n",
       "    </tr>\n",
       "    <tr>\n",
       "      <th>7</th>\n",
       "      <td>Sleep Early and stay positive</td>\n",
       "      <td>1</td>\n",
       "    </tr>\n",
       "    <tr>\n",
       "      <th>8</th>\n",
       "      <td>Always stay positive</td>\n",
       "      <td>1</td>\n",
       "    </tr>\n",
       "    <tr>\n",
       "      <th>9</th>\n",
       "      <td>I don't want to work hard</td>\n",
       "      <td>0</td>\n",
       "    </tr>\n",
       "    <tr>\n",
       "      <th>10</th>\n",
       "      <td>Don’t be sad</td>\n",
       "      <td>1</td>\n",
       "    </tr>\n",
       "    <tr>\n",
       "      <th>11</th>\n",
       "      <td>Be happy and smile</td>\n",
       "      <td>1</td>\n",
       "    </tr>\n",
       "    <tr>\n",
       "      <th>12</th>\n",
       "      <td>Forget your dreams</td>\n",
       "      <td>0</td>\n",
       "    </tr>\n",
       "    <tr>\n",
       "      <th>13</th>\n",
       "      <td>Work hard</td>\n",
       "      <td>1</td>\n",
       "    </tr>\n",
       "    <tr>\n",
       "      <th>14</th>\n",
       "      <td>Don’t work hard</td>\n",
       "      <td>0</td>\n",
       "    </tr>\n",
       "    <tr>\n",
       "      <th>15</th>\n",
       "      <td>Simply quit things</td>\n",
       "      <td>0</td>\n",
       "    </tr>\n",
       "    <tr>\n",
       "      <th>16</th>\n",
       "      <td>Easily give up</td>\n",
       "      <td>0</td>\n",
       "    </tr>\n",
       "    <tr>\n",
       "      <th>17</th>\n",
       "      <td>You will lose if you don’t work</td>\n",
       "      <td>0</td>\n",
       "    </tr>\n",
       "    <tr>\n",
       "      <th>18</th>\n",
       "      <td>Things are easy</td>\n",
       "      <td>1</td>\n",
       "    </tr>\n",
       "    <tr>\n",
       "      <th>19</th>\n",
       "      <td>Things are hard, so quit</td>\n",
       "      <td>0</td>\n",
       "    </tr>\n",
       "  </tbody>\n",
       "</table>\n",
       "</div>"
      ],
      "text/plain": [
       "                           Sentences  Labels\n",
       "0     You will win if you work hard        1\n",
       "1           Be lazy and win the life       0\n",
       "2              Quit life and give up       0\n",
       "3                   Be lazy and quit       0\n",
       "4        Life is short don't be lazy       1\n",
       "5              Don't be lazy and win       1\n",
       "6        Don't be lazy and work hard       1\n",
       "7      Sleep Early and stay positive       1\n",
       "8               Always stay positive       1\n",
       "9          I don't want to work hard       0\n",
       "10                      Don’t be sad       1\n",
       "11                Be happy and smile       1\n",
       "12                Forget your dreams       0\n",
       "13                        Work hard        1\n",
       "14                   Don’t work hard       0\n",
       "15                Simply quit things       0\n",
       "16                    Easily give up       0\n",
       "17  You will lose if you don’t work        0\n",
       "18                   Things are easy       1\n",
       "19          Things are hard, so quit       0"
      ]
     },
     "execution_count": 10,
     "metadata": {},
     "output_type": "execute_result"
    }
   ],
   "source": [
    "data = pd.read_csv('sentences.csv')\n",
    "print(data.shape)\n",
    "data"
   ]
  },
  {
   "cell_type": "code",
   "execution_count": 11,
   "metadata": {},
   "outputs": [
    {
     "name": "stdout",
     "output_type": "stream",
     "text": [
      "10\n"
     ]
    },
    {
     "data": {
      "text/html": [
       "<div>\n",
       "<style scoped>\n",
       "    .dataframe tbody tr th:only-of-type {\n",
       "        vertical-align: middle;\n",
       "    }\n",
       "\n",
       "    .dataframe tbody tr th {\n",
       "        vertical-align: top;\n",
       "    }\n",
       "\n",
       "    .dataframe thead th {\n",
       "        text-align: right;\n",
       "    }\n",
       "</style>\n",
       "<table border=\"1\" class=\"dataframe\">\n",
       "  <thead>\n",
       "    <tr style=\"text-align: right;\">\n",
       "      <th></th>\n",
       "      <th>Sentences</th>\n",
       "      <th>Labels</th>\n",
       "    </tr>\n",
       "  </thead>\n",
       "  <tbody>\n",
       "    <tr>\n",
       "      <th>0</th>\n",
       "      <td>You will win if you work hard</td>\n",
       "      <td>1</td>\n",
       "    </tr>\n",
       "    <tr>\n",
       "      <th>4</th>\n",
       "      <td>Life is short don't be lazy</td>\n",
       "      <td>1</td>\n",
       "    </tr>\n",
       "    <tr>\n",
       "      <th>5</th>\n",
       "      <td>Don't be lazy and win</td>\n",
       "      <td>1</td>\n",
       "    </tr>\n",
       "    <tr>\n",
       "      <th>6</th>\n",
       "      <td>Don't be lazy and work hard</td>\n",
       "      <td>1</td>\n",
       "    </tr>\n",
       "    <tr>\n",
       "      <th>7</th>\n",
       "      <td>Sleep Early and stay positive</td>\n",
       "      <td>1</td>\n",
       "    </tr>\n",
       "    <tr>\n",
       "      <th>8</th>\n",
       "      <td>Always stay positive</td>\n",
       "      <td>1</td>\n",
       "    </tr>\n",
       "    <tr>\n",
       "      <th>10</th>\n",
       "      <td>Don’t be sad</td>\n",
       "      <td>1</td>\n",
       "    </tr>\n",
       "    <tr>\n",
       "      <th>11</th>\n",
       "      <td>Be happy and smile</td>\n",
       "      <td>1</td>\n",
       "    </tr>\n",
       "    <tr>\n",
       "      <th>13</th>\n",
       "      <td>Work hard</td>\n",
       "      <td>1</td>\n",
       "    </tr>\n",
       "    <tr>\n",
       "      <th>18</th>\n",
       "      <td>Things are easy</td>\n",
       "      <td>1</td>\n",
       "    </tr>\n",
       "  </tbody>\n",
       "</table>\n",
       "</div>"
      ],
      "text/plain": [
       "                         Sentences  Labels\n",
       "0   You will win if you work hard        1\n",
       "4      Life is short don't be lazy       1\n",
       "5            Don't be lazy and win       1\n",
       "6      Don't be lazy and work hard       1\n",
       "7    Sleep Early and stay positive       1\n",
       "8             Always stay positive       1\n",
       "10                    Don’t be sad       1\n",
       "11              Be happy and smile       1\n",
       "13                      Work hard        1\n",
       "18                 Things are easy       1"
      ]
     },
     "execution_count": 11,
     "metadata": {},
     "output_type": "execute_result"
    }
   ],
   "source": [
    "# motivational sentences : 1\n",
    "\n",
    "print(sum(data['Labels'] == 1))\n",
    "data[data['Labels'] == 1]"
   ]
  },
  {
   "cell_type": "code",
   "execution_count": 12,
   "metadata": {},
   "outputs": [
    {
     "name": "stdout",
     "output_type": "stream",
     "text": [
      "10\n"
     ]
    },
    {
     "data": {
      "text/html": [
       "<div>\n",
       "<style scoped>\n",
       "    .dataframe tbody tr th:only-of-type {\n",
       "        vertical-align: middle;\n",
       "    }\n",
       "\n",
       "    .dataframe tbody tr th {\n",
       "        vertical-align: top;\n",
       "    }\n",
       "\n",
       "    .dataframe thead th {\n",
       "        text-align: right;\n",
       "    }\n",
       "</style>\n",
       "<table border=\"1\" class=\"dataframe\">\n",
       "  <thead>\n",
       "    <tr style=\"text-align: right;\">\n",
       "      <th></th>\n",
       "      <th>Sentences</th>\n",
       "      <th>Labels</th>\n",
       "    </tr>\n",
       "  </thead>\n",
       "  <tbody>\n",
       "    <tr>\n",
       "      <th>1</th>\n",
       "      <td>Be lazy and win the life</td>\n",
       "      <td>0</td>\n",
       "    </tr>\n",
       "    <tr>\n",
       "      <th>2</th>\n",
       "      <td>Quit life and give up</td>\n",
       "      <td>0</td>\n",
       "    </tr>\n",
       "    <tr>\n",
       "      <th>3</th>\n",
       "      <td>Be lazy and quit</td>\n",
       "      <td>0</td>\n",
       "    </tr>\n",
       "    <tr>\n",
       "      <th>9</th>\n",
       "      <td>I don't want to work hard</td>\n",
       "      <td>0</td>\n",
       "    </tr>\n",
       "    <tr>\n",
       "      <th>12</th>\n",
       "      <td>Forget your dreams</td>\n",
       "      <td>0</td>\n",
       "    </tr>\n",
       "    <tr>\n",
       "      <th>14</th>\n",
       "      <td>Don’t work hard</td>\n",
       "      <td>0</td>\n",
       "    </tr>\n",
       "    <tr>\n",
       "      <th>15</th>\n",
       "      <td>Simply quit things</td>\n",
       "      <td>0</td>\n",
       "    </tr>\n",
       "    <tr>\n",
       "      <th>16</th>\n",
       "      <td>Easily give up</td>\n",
       "      <td>0</td>\n",
       "    </tr>\n",
       "    <tr>\n",
       "      <th>17</th>\n",
       "      <td>You will lose if you don’t work</td>\n",
       "      <td>0</td>\n",
       "    </tr>\n",
       "    <tr>\n",
       "      <th>19</th>\n",
       "      <td>Things are hard, so quit</td>\n",
       "      <td>0</td>\n",
       "    </tr>\n",
       "  </tbody>\n",
       "</table>\n",
       "</div>"
      ],
      "text/plain": [
       "                           Sentences  Labels\n",
       "1           Be lazy and win the life       0\n",
       "2              Quit life and give up       0\n",
       "3                   Be lazy and quit       0\n",
       "9          I don't want to work hard       0\n",
       "12                Forget your dreams       0\n",
       "14                   Don’t work hard       0\n",
       "15                Simply quit things       0\n",
       "16                    Easily give up       0\n",
       "17  You will lose if you don’t work        0\n",
       "19          Things are hard, so quit       0"
      ]
     },
     "execution_count": 12,
     "metadata": {},
     "output_type": "execute_result"
    }
   ],
   "source": [
    "# demotivational sentences : 0\n",
    "\n",
    "print(sum(data['Labels'] == 0))\n",
    "data[data[\"Labels\"] == 0]"
   ]
  },
  {
   "cell_type": "code",
   "execution_count": 13,
   "metadata": {},
   "outputs": [
    {
     "data": {
      "text/html": [
       "<div>\n",
       "<style scoped>\n",
       "    .dataframe tbody tr th:only-of-type {\n",
       "        vertical-align: middle;\n",
       "    }\n",
       "\n",
       "    .dataframe tbody tr th {\n",
       "        vertical-align: top;\n",
       "    }\n",
       "\n",
       "    .dataframe thead th {\n",
       "        text-align: right;\n",
       "    }\n",
       "</style>\n",
       "<table border=\"1\" class=\"dataframe\">\n",
       "  <thead>\n",
       "    <tr style=\"text-align: right;\">\n",
       "      <th></th>\n",
       "      <th>Sentences</th>\n",
       "      <th>Labels</th>\n",
       "      <th>Cleaned_text</th>\n",
       "    </tr>\n",
       "  </thead>\n",
       "  <tbody>\n",
       "    <tr>\n",
       "      <th>0</th>\n",
       "      <td>You will win if you work hard</td>\n",
       "      <td>1</td>\n",
       "      <td>You win work hard</td>\n",
       "    </tr>\n",
       "    <tr>\n",
       "      <th>1</th>\n",
       "      <td>Be lazy and win the life</td>\n",
       "      <td>0</td>\n",
       "      <td>Be lazy win life</td>\n",
       "    </tr>\n",
       "    <tr>\n",
       "      <th>2</th>\n",
       "      <td>Quit life and give up</td>\n",
       "      <td>0</td>\n",
       "      <td>Quit life give</td>\n",
       "    </tr>\n",
       "    <tr>\n",
       "      <th>3</th>\n",
       "      <td>Be lazy and quit</td>\n",
       "      <td>0</td>\n",
       "      <td>Be lazy quit</td>\n",
       "    </tr>\n",
       "    <tr>\n",
       "      <th>4</th>\n",
       "      <td>Life is short don't be lazy</td>\n",
       "      <td>1</td>\n",
       "      <td>Life short lazy</td>\n",
       "    </tr>\n",
       "    <tr>\n",
       "      <th>5</th>\n",
       "      <td>Don't be lazy and win</td>\n",
       "      <td>1</td>\n",
       "      <td>Don't lazy win</td>\n",
       "    </tr>\n",
       "    <tr>\n",
       "      <th>6</th>\n",
       "      <td>Don't be lazy and work hard</td>\n",
       "      <td>1</td>\n",
       "      <td>Don't lazy work hard</td>\n",
       "    </tr>\n",
       "    <tr>\n",
       "      <th>7</th>\n",
       "      <td>Sleep Early and stay positive</td>\n",
       "      <td>1</td>\n",
       "      <td>Sleep Early stay positive</td>\n",
       "    </tr>\n",
       "    <tr>\n",
       "      <th>8</th>\n",
       "      <td>Always stay positive</td>\n",
       "      <td>1</td>\n",
       "      <td>Always stay positive</td>\n",
       "    </tr>\n",
       "    <tr>\n",
       "      <th>9</th>\n",
       "      <td>I don't want to work hard</td>\n",
       "      <td>0</td>\n",
       "      <td>I want work hard</td>\n",
       "    </tr>\n",
       "    <tr>\n",
       "      <th>10</th>\n",
       "      <td>Don’t be sad</td>\n",
       "      <td>1</td>\n",
       "      <td>Don’t sad</td>\n",
       "    </tr>\n",
       "    <tr>\n",
       "      <th>11</th>\n",
       "      <td>Be happy and smile</td>\n",
       "      <td>1</td>\n",
       "      <td>Be happy smile</td>\n",
       "    </tr>\n",
       "    <tr>\n",
       "      <th>12</th>\n",
       "      <td>Forget your dreams</td>\n",
       "      <td>0</td>\n",
       "      <td>Forget dreams</td>\n",
       "    </tr>\n",
       "    <tr>\n",
       "      <th>13</th>\n",
       "      <td>Work hard</td>\n",
       "      <td>1</td>\n",
       "      <td>Work hard</td>\n",
       "    </tr>\n",
       "    <tr>\n",
       "      <th>14</th>\n",
       "      <td>Don’t work hard</td>\n",
       "      <td>0</td>\n",
       "      <td>Don’t work hard</td>\n",
       "    </tr>\n",
       "    <tr>\n",
       "      <th>15</th>\n",
       "      <td>Simply quit things</td>\n",
       "      <td>0</td>\n",
       "      <td>Simply quit things</td>\n",
       "    </tr>\n",
       "    <tr>\n",
       "      <th>16</th>\n",
       "      <td>Easily give up</td>\n",
       "      <td>0</td>\n",
       "      <td>Easily give</td>\n",
       "    </tr>\n",
       "    <tr>\n",
       "      <th>17</th>\n",
       "      <td>You will lose if you don’t work</td>\n",
       "      <td>0</td>\n",
       "      <td>You lose don’t work</td>\n",
       "    </tr>\n",
       "    <tr>\n",
       "      <th>18</th>\n",
       "      <td>Things are easy</td>\n",
       "      <td>1</td>\n",
       "      <td>Things easy</td>\n",
       "    </tr>\n",
       "    <tr>\n",
       "      <th>19</th>\n",
       "      <td>Things are hard, so quit</td>\n",
       "      <td>0</td>\n",
       "      <td>Things hard, quit</td>\n",
       "    </tr>\n",
       "  </tbody>\n",
       "</table>\n",
       "</div>"
      ],
      "text/plain": [
       "                           Sentences  Labels               Cleaned_text\n",
       "0     You will win if you work hard        1          You win work hard\n",
       "1           Be lazy and win the life       0           Be lazy win life\n",
       "2              Quit life and give up       0             Quit life give\n",
       "3                   Be lazy and quit       0               Be lazy quit\n",
       "4        Life is short don't be lazy       1            Life short lazy\n",
       "5              Don't be lazy and win       1             Don't lazy win\n",
       "6        Don't be lazy and work hard       1       Don't lazy work hard\n",
       "7      Sleep Early and stay positive       1  Sleep Early stay positive\n",
       "8               Always stay positive       1       Always stay positive\n",
       "9          I don't want to work hard       0           I want work hard\n",
       "10                      Don’t be sad       1                  Don’t sad\n",
       "11                Be happy and smile       1             Be happy smile\n",
       "12                Forget your dreams       0              Forget dreams\n",
       "13                        Work hard        1                  Work hard\n",
       "14                   Don’t work hard       0            Don’t work hard\n",
       "15                Simply quit things       0         Simply quit things\n",
       "16                    Easily give up       0                Easily give\n",
       "17  You will lose if you don’t work        0        You lose don’t work\n",
       "18                   Things are easy       1                Things easy\n",
       "19          Things are hard, so quit       0          Things hard, quit"
      ]
     },
     "execution_count": 13,
     "metadata": {},
     "output_type": "execute_result"
    }
   ],
   "source": [
    "# lets clean the sentences\n",
    "from nltk.corpus import stopwords\n",
    "\n",
    "stop_words = stopwords.words('english')\n",
    "data['Cleaned_text'] = data['Sentences'].apply(lambda sent : \" \".join(i for i in sent.split() if i not in stop_words))\n",
    "data"
   ]
  },
  {
   "cell_type": "code",
   "execution_count": 14,
   "metadata": {},
   "outputs": [
    {
     "name": "stdout",
     "output_type": "stream",
     "text": [
      "{'get': 3, 'up': 10, 'early': 2, 'you': 14, 'will': 11, 'win': 12, 'if': 5, 'work': 13, 'hard': 4, 'life': 8, 'is': 6, 'short': 9, 'don': 1, 'be': 0, 'lazy': 7}\n",
      "(3, 15)\n",
      "[[0 0 1 1 0 0 0 0 0 0 1 0 0 0 0]\n",
      " [0 0 0 0 1 1 0 0 0 0 0 1 1 1 2]\n",
      " [1 1 0 0 0 0 1 1 1 1 0 0 0 0 0]]\n"
     ]
    }
   ],
   "source": [
    "vec = CountVectorizer(min_df = 0, lowercase = True)\n",
    "vec.fit(sentences)\n",
    "print(vec.vocabulary_) #shows the word to index mapping\n",
    "\n",
    "# lets transform the sentences line by line\n",
    "word_vector = vec.transform(sentences).toarray()\n",
    "print(word_vector.shape)\n",
    "print(word_vector)"
   ]
  },
  {
   "cell_type": "code",
   "execution_count": 15,
   "metadata": {},
   "outputs": [
    {
     "name": "stdout",
     "output_type": "stream",
     "text": [
      "{'you': 26, 'win': 24, 'work': 25, 'hard': 10, 'be': 1, 'lazy': 11, 'life': 12, 'quit': 15, 'give': 8, 'short': 17, 'don': 2, 'sleep': 19, 'early': 4, 'stay': 21, 'positive': 14, 'always': 0, 'want': 23, 'sad': 16, 'happy': 9, 'smile': 20, 'forget': 7, 'dreams': 3, 'simply': 18, 'things': 22, 'easily': 5, 'lose': 13, 'easy': 6}\n"
     ]
    }
   ],
   "source": [
    "from sklearn.feature_extraction.text import CountVectorizer\n",
    "\n",
    "vec = CountVectorizer()\n",
    "vec.fit(data['Cleaned_text'])\n",
    "print(vec.vocabulary_)"
   ]
  },
  {
   "cell_type": "code",
   "execution_count": 16,
   "metadata": {},
   "outputs": [
    {
     "name": "stdout",
     "output_type": "stream",
     "text": [
      "(20, 27)\n",
      "<class 'numpy.ndarray'>\n",
      "[[0 0 0 0 0 0 0 0 0 0 1 0 0 0 0 0 0 0 0 0 0 0 0 0 1 1 1]\n",
      " [0 1 0 0 0 0 0 0 0 0 0 1 1 0 0 0 0 0 0 0 0 0 0 0 1 0 0]\n",
      " [0 0 0 0 0 0 0 0 1 0 0 0 1 0 0 1 0 0 0 0 0 0 0 0 0 0 0]\n",
      " [0 1 0 0 0 0 0 0 0 0 0 1 0 0 0 1 0 0 0 0 0 0 0 0 0 0 0]\n",
      " [0 0 0 0 0 0 0 0 0 0 0 1 1 0 0 0 0 1 0 0 0 0 0 0 0 0 0]\n",
      " [0 0 1 0 0 0 0 0 0 0 0 1 0 0 0 0 0 0 0 0 0 0 0 0 1 0 0]\n",
      " [0 0 1 0 0 0 0 0 0 0 1 1 0 0 0 0 0 0 0 0 0 0 0 0 0 1 0]\n",
      " [0 0 0 0 1 0 0 0 0 0 0 0 0 0 1 0 0 0 0 1 0 1 0 0 0 0 0]\n",
      " [1 0 0 0 0 0 0 0 0 0 0 0 0 0 1 0 0 0 0 0 0 1 0 0 0 0 0]\n",
      " [0 0 0 0 0 0 0 0 0 0 1 0 0 0 0 0 0 0 0 0 0 0 0 1 0 1 0]\n",
      " [0 0 1 0 0 0 0 0 0 0 0 0 0 0 0 0 1 0 0 0 0 0 0 0 0 0 0]\n",
      " [0 1 0 0 0 0 0 0 0 1 0 0 0 0 0 0 0 0 0 0 1 0 0 0 0 0 0]\n",
      " [0 0 0 1 0 0 0 1 0 0 0 0 0 0 0 0 0 0 0 0 0 0 0 0 0 0 0]\n",
      " [0 0 0 0 0 0 0 0 0 0 1 0 0 0 0 0 0 0 0 0 0 0 0 0 0 1 0]\n",
      " [0 0 1 0 0 0 0 0 0 0 1 0 0 0 0 0 0 0 0 0 0 0 0 0 0 1 0]\n",
      " [0 0 0 0 0 0 0 0 0 0 0 0 0 0 0 1 0 0 1 0 0 0 1 0 0 0 0]\n",
      " [0 0 0 0 0 1 0 0 1 0 0 0 0 0 0 0 0 0 0 0 0 0 0 0 0 0 0]\n",
      " [0 0 1 0 0 0 0 0 0 0 0 0 0 1 0 0 0 0 0 0 0 0 0 0 0 1 1]\n",
      " [0 0 0 0 0 0 1 0 0 0 0 0 0 0 0 0 0 0 0 0 0 0 1 0 0 0 0]\n",
      " [0 0 0 0 0 0 0 0 0 0 1 0 0 0 0 1 0 0 0 0 0 0 1 0 0 0 0]]\n"
     ]
    }
   ],
   "source": [
    "# lets transform the sentences line by line\n",
    "X = vec.transform(data['Cleaned_text']).toarray()\n",
    "print(X.shape)\n",
    "print(type(X))\n",
    "print(X)"
   ]
  },
  {
   "cell_type": "code",
   "execution_count": 17,
   "metadata": {},
   "outputs": [
    {
     "name": "stdout",
     "output_type": "stream",
     "text": [
      "(20,)\n",
      "<class 'numpy.ndarray'>\n",
      "[1 0 0 0 1 1 1 1 1 0 1 1 0 1 0 0 0 0 1 0]\n"
     ]
    }
   ],
   "source": [
    "y = data['Labels'].values\n",
    "print(y.shape)\n",
    "print(type(y))\n",
    "print(y)"
   ]
  },
  {
   "cell_type": "code",
   "execution_count": 18,
   "metadata": {},
   "outputs": [],
   "source": [
    "from sklearn.model_selection import train_test_split\n",
    "\n",
    "X_train, X_test, y_train, y_test = train_test_split(X, y, test_size = 0.25, shuffle = \"True\")"
   ]
  },
  {
   "cell_type": "code",
   "execution_count": 19,
   "metadata": {},
   "outputs": [
    {
     "name": "stdout",
     "output_type": "stream",
     "text": [
      "X train shape :  (15, 27)\n",
      "y train shape :  (15,)\n",
      "X test shape :  (5, 27)\n",
      "y test shape :  (5,)\n"
     ]
    }
   ],
   "source": [
    "print(\"X train shape : \", X_train.shape)\n",
    "print(\"y train shape : \", y_train.shape)\n",
    "print(\"X test shape : \", X_test.shape)\n",
    "print(\"y test shape : \", y_test.shape )"
   ]
  },
  {
   "cell_type": "code",
   "execution_count": 20,
   "metadata": {},
   "outputs": [],
   "source": [
    "# lets train the DL model.\n",
    "\n",
    "from keras.models import Sequential\n",
    "from keras.layers import Dense\n",
    "\n",
    "model = Sequential()\n",
    "model.add(Dense(32, input_shape = (None, 27), activation = 'relu'))\n",
    "model.add(Dense(1, activation = 'sigmoid'))"
   ]
  },
  {
   "cell_type": "code",
   "execution_count": 21,
   "metadata": {},
   "outputs": [
    {
     "name": "stdout",
     "output_type": "stream",
     "text": [
      "Epoch 1/50\n",
      "WARNING:tensorflow:Model was constructed with shape (None, None, 27) for input Tensor(\"dense_input:0\", shape=(None, None, 27), dtype=float32), but it was called on an input with incompatible shape (None, 27).\n",
      "WARNING:tensorflow:Model was constructed with shape (None, None, 27) for input Tensor(\"dense_input:0\", shape=(None, None, 27), dtype=float32), but it was called on an input with incompatible shape (None, 27).\n",
      "4/4 [==============================] - 0s 2ms/step - loss: 0.7169 - accuracy: 0.4000\n",
      "Epoch 2/50\n",
      "4/4 [==============================] - 0s 2ms/step - loss: 0.7077 - accuracy: 0.4667\n",
      "Epoch 3/50\n",
      "4/4 [==============================] - 0s 2ms/step - loss: 0.6990 - accuracy: 0.4667\n",
      "Epoch 4/50\n",
      "4/4 [==============================] - 0s 1ms/step - loss: 0.6912 - accuracy: 0.4667\n",
      "Epoch 5/50\n",
      "4/4 [==============================] - 0s 2ms/step - loss: 0.6838 - accuracy: 0.4667\n",
      "Epoch 6/50\n",
      "4/4 [==============================] - 0s 2ms/step - loss: 0.6763 - accuracy: 0.6000\n",
      "Epoch 7/50\n",
      "4/4 [==============================] - 0s 2ms/step - loss: 0.6685 - accuracy: 0.6667\n",
      "Epoch 8/50\n",
      "4/4 [==============================] - 0s 2ms/step - loss: 0.6618 - accuracy: 0.6667\n",
      "Epoch 9/50\n",
      "4/4 [==============================] - 0s 1ms/step - loss: 0.6550 - accuracy: 0.6667\n",
      "Epoch 10/50\n",
      "4/4 [==============================] - 0s 998us/step - loss: 0.6473 - accuracy: 0.6667\n",
      "Epoch 11/50\n",
      "4/4 [==============================] - 0s 1ms/step - loss: 0.6411 - accuracy: 0.6667\n",
      "Epoch 12/50\n",
      "4/4 [==============================] - 0s 998us/step - loss: 0.6341 - accuracy: 0.6667\n",
      "Epoch 13/50\n",
      "4/4 [==============================] - 0s 1ms/step - loss: 0.6274 - accuracy: 0.6667\n",
      "Epoch 14/50\n",
      "4/4 [==============================] - 0s 1ms/step - loss: 0.6209 - accuracy: 0.6667\n",
      "Epoch 15/50\n",
      "4/4 [==============================] - 0s 1ms/step - loss: 0.6141 - accuracy: 0.6667\n",
      "Epoch 16/50\n",
      "4/4 [==============================] - 0s 1ms/step - loss: 0.6079 - accuracy: 0.7333\n",
      "Epoch 17/50\n",
      "4/4 [==============================] - 0s 998us/step - loss: 0.6013 - accuracy: 0.8000\n",
      "Epoch 18/50\n",
      "4/4 [==============================] - 0s 997us/step - loss: 0.5953 - accuracy: 0.8000\n",
      "Epoch 19/50\n",
      "4/4 [==============================] - 0s 1ms/step - loss: 0.5892 - accuracy: 0.8000\n",
      "Epoch 20/50\n",
      "4/4 [==============================] - 0s 997us/step - loss: 0.5833 - accuracy: 0.8000\n",
      "Epoch 21/50\n",
      "4/4 [==============================] - 0s 998us/step - loss: 0.5769 - accuracy: 0.8000\n",
      "Epoch 22/50\n",
      "4/4 [==============================] - 0s 997us/step - loss: 0.5705 - accuracy: 0.8667\n",
      "Epoch 23/50\n",
      "4/4 [==============================] - 0s 998us/step - loss: 0.5644 - accuracy: 0.8667\n",
      "Epoch 24/50\n",
      "4/4 [==============================] - 0s 1ms/step - loss: 0.5582 - accuracy: 0.8667\n",
      "Epoch 25/50\n",
      "4/4 [==============================] - 0s 1ms/step - loss: 0.5521 - accuracy: 0.8667\n",
      "Epoch 26/50\n",
      "4/4 [==============================] - 0s 1ms/step - loss: 0.5453 - accuracy: 0.8667\n",
      "Epoch 27/50\n",
      "4/4 [==============================] - 0s 1ms/step - loss: 0.5399 - accuracy: 0.8667\n",
      "Epoch 28/50\n",
      "4/4 [==============================] - 0s 1ms/step - loss: 0.5338 - accuracy: 0.8667\n",
      "Epoch 29/50\n",
      "4/4 [==============================] - 0s 882us/step - loss: 0.5275 - accuracy: 0.8667\n",
      "Epoch 30/50\n",
      "4/4 [==============================] - 0s 998us/step - loss: 0.5219 - accuracy: 0.8667\n",
      "Epoch 31/50\n",
      "4/4 [==============================] - 0s 1ms/step - loss: 0.5163 - accuracy: 0.8667\n",
      "Epoch 32/50\n",
      "4/4 [==============================] - 0s 1ms/step - loss: 0.5108 - accuracy: 0.8667\n",
      "Epoch 33/50\n",
      "4/4 [==============================] - 0s 998us/step - loss: 0.5047 - accuracy: 0.8667\n",
      "Epoch 34/50\n",
      "4/4 [==============================] - 0s 1ms/step - loss: 0.4990 - accuracy: 0.8667\n",
      "Epoch 35/50\n",
      "4/4 [==============================] - 0s 1ms/step - loss: 0.4936 - accuracy: 0.8667\n",
      "Epoch 36/50\n",
      "4/4 [==============================] - 0s 1ms/step - loss: 0.4884 - accuracy: 0.8667\n",
      "Epoch 37/50\n",
      "4/4 [==============================] - 0s 997us/step - loss: 0.4827 - accuracy: 0.9333\n",
      "Epoch 38/50\n",
      "4/4 [==============================] - 0s 997us/step - loss: 0.4773 - accuracy: 0.9333\n",
      "Epoch 39/50\n",
      "4/4 [==============================] - 0s 1ms/step - loss: 0.4717 - accuracy: 0.9333\n",
      "Epoch 40/50\n",
      "4/4 [==============================] - 0s 1ms/step - loss: 0.4663 - accuracy: 0.9333\n",
      "Epoch 41/50\n",
      "4/4 [==============================] - 0s 1ms/step - loss: 0.4607 - accuracy: 0.9333\n",
      "Epoch 42/50\n",
      "4/4 [==============================] - 0s 1ms/step - loss: 0.4553 - accuracy: 0.9333\n",
      "Epoch 43/50\n",
      "4/4 [==============================] - 0s 1ms/step - loss: 0.4499 - accuracy: 0.9333\n",
      "Epoch 44/50\n",
      "4/4 [==============================] - 0s 1ms/step - loss: 0.4446 - accuracy: 1.0000\n",
      "Epoch 45/50\n",
      "4/4 [==============================] - 0s 1ms/step - loss: 0.4398 - accuracy: 1.0000\n",
      "Epoch 46/50\n",
      "4/4 [==============================] - 0s 989us/step - loss: 0.4341 - accuracy: 1.0000\n",
      "Epoch 47/50\n",
      "4/4 [==============================] - 0s 1ms/step - loss: 0.4285 - accuracy: 1.0000\n",
      "Epoch 48/50\n",
      "4/4 [==============================] - 0s 1ms/step - loss: 0.4234 - accuracy: 1.0000\n",
      "Epoch 49/50\n",
      "4/4 [==============================] - 0s 1ms/step - loss: 0.4183 - accuracy: 1.0000\n",
      "Epoch 50/50\n",
      "4/4 [==============================] - 0s 996us/step - loss: 0.4131 - accuracy: 1.0000\n"
     ]
    }
   ],
   "source": [
    "# compiling the model\n",
    "model.compile(optimizer = 'adam', loss = \"binary_crossentropy\", metrics = ['accuracy'])\n",
    "\n",
    "# fitting the model on training data.\n",
    "history = model.fit(X_train, y_train, epochs = 50, batch_size = 4)"
   ]
  },
  {
   "cell_type": "code",
   "execution_count": 22,
   "metadata": {},
   "outputs": [
    {
     "name": "stdout",
     "output_type": "stream",
     "text": [
      "<tensorflow.python.keras.callbacks.History object at 0x000001AED14D5EB0>\n"
     ]
    }
   ],
   "source": [
    "print(history)"
   ]
  },
  {
   "cell_type": "code",
   "execution_count": 23,
   "metadata": {},
   "outputs": [
    {
     "name": "stdout",
     "output_type": "stream",
     "text": [
      "WARNING:tensorflow:Model was constructed with shape (None, None, 27) for input Tensor(\"dense_input:0\", shape=(None, None, 27), dtype=float32), but it was called on an input with incompatible shape (None, 27).\n",
      "1/1 [==============================] - 0s 1ms/step - loss: 0.4093 - accuracy: 1.0000\n",
      "Training loss :  0.4093474745750427\n",
      "Training accuracy :  1.0\n"
     ]
    }
   ],
   "source": [
    "# evaluation on the training data.\n",
    "score = model.evaluate(X_train, y_train)\n",
    "print(\"Training loss : \", score[0])\n",
    "print(\"Training accuracy : \", score[1])"
   ]
  },
  {
   "cell_type": "code",
   "execution_count": 24,
   "metadata": {},
   "outputs": [
    {
     "name": "stdout",
     "output_type": "stream",
     "text": [
      "1/1 [==============================] - 0s 2ms/step - loss: 0.6669 - accuracy: 0.6000\n",
      "Testing loss :  0.6668697595596313\n",
      "Testing accuracy :  0.6000000238418579\n"
     ]
    }
   ],
   "source": [
    "# evaluation on the testing data.\n",
    "score = model.evaluate(X_test, y_test)\n",
    "print(\"Testing loss : \", score[0])\n",
    "print(\"Testing accuracy : \", score[1])"
   ]
  },
  {
   "cell_type": "code",
   "execution_count": 25,
   "metadata": {},
   "outputs": [
    {
     "data": {
      "image/png": "[encoded data removed]",
      "text/plain": [
       "<Figure size 432x288 with 1 Axes>"
      ]
     },
     "metadata": {
      "needs_background": "light"
     },
     "output_type": "display_data"
    }
   ],
   "source": [
    "plt.plot(history.history['accuracy'])\n",
    "plt.title('model accuracy')\n",
    "plt.ylabel('accuracy')\n",
    "plt.xlabel('epoch')\n",
    "plt.legend(['train', 'test'], loc='upper left')\n",
    "plt.show()"
   ]
  },
  {
   "cell_type": "code",
   "execution_count": 26,
   "metadata": {},
   "outputs": [
    {
     "data": {
      "image/png": "[encoded data removed]",
      "text/plain": [
       "<Figure size 432x288 with 1 Axes>"
      ]
     },
     "metadata": {
      "needs_background": "light"
     },
     "output_type": "display_data"
    }
   ],
   "source": [
    "plt.plot(history.history['loss'])\n",
    "plt.title('model loss')\n",
    "plt.ylabel('loss')\n",
    "plt.xlabel('epoch')\n",
    "plt.legend(['train', 'test'], loc='upper left')\n",
    "plt.show()"
   ]
  },
  {
   "cell_type": "code",
   "execution_count": 28,
   "metadata": {},
   "outputs": [],
   "source": [
    "# prediction on new data.\n",
    "\n",
    "motiv = \"You will win and succeed provided you work hard\"\n",
    "demotiv = \"Always be lazy and do nothing\"\n",
    "\n",
    "sent_motiv = \" \".join(i for i in motiv.split() if i not in stop_words)\n",
    "sent_demotiv = \" \".join(i for i in demotiv.split() if i not in stop_words)"
   ]
  },
  {
   "cell_type": "code",
   "execution_count": 29,
   "metadata": {},
   "outputs": [
    {
     "name": "stdout",
     "output_type": "stream",
     "text": [
      "You will win and succeed provided you work hard\n",
      "You win succeed provided work hard\n",
      "Always be lazy and do nothing\n",
      "Always lazy nothing\n"
     ]
    }
   ],
   "source": [
    "print(motiv)\n",
    "print(sent_motiv)\n",
    "print(demotiv)\n",
    "print(sent_demotiv)"
   ]
  },
  {
   "cell_type": "code",
   "execution_count": 30,
   "metadata": {},
   "outputs": [],
   "source": [
    "sent = [sent_motiv, sent_demotiv]\n",
    "sent = vec.transform(sent).toarray()"
   ]
  },
  {
   "cell_type": "code",
   "execution_count": 34,
   "metadata": {},
   "outputs": [
    {
     "data": {
      "text/plain": [
       "array([[0.63761324],\n",
       "       [0.6005644 ]], dtype=float32)"
      ]
     },
     "execution_count": 34,
     "metadata": {},
     "output_type": "execute_result"
    }
   ],
   "source": [
    "y_pred = model.predict(sent)\n",
    "y_pred"
   ]
  },
  {
   "cell_type": "code",
   "execution_count": 32,
   "metadata": {},
   "outputs": [
    {
     "data": {
      "text/plain": [
       "array([[1.],\n",
       "       [1.]], dtype=float32)"
      ]
     },
     "execution_count": 32,
     "metadata": {},
     "output_type": "execute_result"
    }
   ],
   "source": [
    "y_pred[y_pred > 0.5] = 1\n",
    "y_pred"
   ]
  },
  {
   "cell_type": "code",
   "execution_count": null,
   "metadata": {},
   "outputs": [],
   "source": []
  }
 ],
 "metadata": {
  "kernelspec": {
   "display_name": "Python 3",
   "language": "python",
   "name": "python3"
  },
  "language_info": {
   "codemirror_mode": {
    "name": "ipython",
    "version": 3
   },
   "file_extension": ".py",
   "mimetype": "text/x-python",
   "name": "python",
   "nbconvert_exporter": "python",
   "pygments_lexer": "ipython3",
   "version": "3.8.3"
  }
 },
 "nbformat": 4,
 "nbformat_minor": 4
}
